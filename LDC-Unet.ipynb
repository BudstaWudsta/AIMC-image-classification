{
 "cells": [
  {
   "cell_type": "markdown",
   "metadata": {},
   "source": [
    "# An Improved LPI Radar Waveform Recognition Framework With LDC-Unet and SSR-Loss"
   ]
  },
  {
   "cell_type": "markdown",
   "metadata": {},
   "source": [
    "### 1 Setup"
   ]
  },
  {
   "cell_type": "markdown",
   "metadata": {},
   "source": [
    "#### 1.1 Imports"
   ]
  },
  {
   "cell_type": "code",
   "execution_count": null,
   "metadata": {},
   "outputs": [],
   "source": [
    "import torch\n",
    "import torch.nn as nn\n",
    "import torchvision.models as models\n",
    "from torchinfo import summary\n",
    "from torch.utils.data import DataLoader, TensorDataset\n",
    "from sklearn.model_selection import train_test_split\n",
    "import h5py\n",
    "import numpy as np\n",
    "from sklearn.preprocessing import LabelEncoder\n",
    "import torch.optim as optim\n",
    "import matplotlib.pyplot as plt\n",
    "from sklearn.metrics import confusion_matrix, ConfusionMatrixDisplay\n",
    "from tqdm import tqdm\n",
    "from sklearn.metrics import (\n",
    "    confusion_matrix,\n",
    "    ConfusionMatrixDisplay,\n",
    "    classification_report,\n",
    ")\n",
    "import cv2\n",
    "import seaborn as sns\n",
    "import os\n",
    "import pickle\n",
    "from scipy.signal import get_window, spectrogram\n",
    "from scipy.fft import fft, fftshift, fftfreq\n",
    "import cupy as cp"
   ]
  },
  {
   "cell_type": "markdown",
   "metadata": {},
   "source": [
    "#### 1.2 Device Selection"
   ]
  },
  {
   "cell_type": "code",
   "execution_count": null,
   "metadata": {},
   "outputs": [],
   "source": [
    "device = torch.device(\"cuda\" if torch.cuda.is_available() else \"cpu\")\n",
    "print(\"Using device:\", device)"
   ]
  },
  {
   "cell_type": "markdown",
   "metadata": {},
   "source": [
    "#### 1.3 Data Input"
   ]
  },
  {
   "cell_type": "code",
   "execution_count": null,
   "metadata": {},
   "outputs": [],
   "source": [
    "def pre_processing(images):\n",
    "    # Resize images to 64x64 using bilinear interpolation\n",
    "    resized_images = np.array(\n",
    "        [cv2.resize(img, (64, 64), interpolation=cv2.INTER_CUBIC) for img in images]\n",
    "    )\n",
    "\n",
    "    return resized_images"
   ]
  },
  {
   "cell_type": "code",
   "execution_count": null,
   "metadata": {},
   "outputs": [],
   "source": [
    "def load_spectrogram_h5s(root_folder, mod_types):\n",
    "    \"\"\"\n",
    "    Loads all .h5 spectrogram files from the specified modulation types\n",
    "    and returns a dict structured as:\n",
    "      {\n",
    "          \"lfm_up\": {\n",
    "              0: <np.ndarray>,\n",
    "              1: <np.ndarray>,\n",
    "              ...\n",
    "          },\n",
    "          ...\n",
    "      }\n",
    "\n",
    "    Parameters:\n",
    "    - root_folder (str): Path to the top-level \"spectrograms\" directory.\n",
    "    - mod_types (list): List of modulation families to include, e.g. ['FM', 'PM']\n",
    "\n",
    "    Returns:\n",
    "    - Dictionary containing all spectrograms, indexed by modulation name and integer index.\n",
    "    \"\"\"\n",
    "    spectrogram_dict = {}\n",
    "\n",
    "    for mod_type in mod_types:\n",
    "        mod_path = os.path.join(root_folder, mod_type)\n",
    "        if not os.path.exists(mod_path):\n",
    "            print(f\"⚠️ Warning: {mod_path} does not exist. Skipping.\")\n",
    "            continue\n",
    "\n",
    "        print(f\"📂 Loading from {mod_type}...\")\n",
    "        files = [f for f in os.listdir(mod_path) if f.endswith(\".h5\")]\n",
    "\n",
    "        for file in tqdm(files, desc=f\"   {mod_type}\", unit=\"file\"):\n",
    "            mod_name = file[:-3]  # Strip '.h5'\n",
    "            file_path = os.path.join(mod_path, file)\n",
    "            spectrogram_dict[mod_name] = {}\n",
    "\n",
    "            try:\n",
    "                with h5py.File(file_path, \"r\") as h5f:\n",
    "                    for key in h5f.keys():\n",
    "                        idx = int(key)  # Convert string index to int\n",
    "                        spectrogram_dict[mod_name][idx] = np.array(h5f[key])\n",
    "            except Exception as e:\n",
    "                print(f\"❌ Failed to load {file_path}: {e}\")\n",
    "\n",
    "    return spectrogram_dict\n"
   ]
  },
  {
   "cell_type": "code",
   "execution_count": null,
   "metadata": {},
   "outputs": [],
   "source": [
    "# Ensure the main directory exists\n",
    "# Add in path to where the spectrograms are stored\n",
    "data_path = \"C:/Users/scocks/Documents/hehehehehehhe/images/\"\n",
    "os.makedirs(data_path, exist_ok=True)\n",
    "\n",
    "img_res = 224\n",
    "img_count = 1000\n",
    "snr = 0\n",
    "\n",
    "\n",
    "folder_name = f\"General_Images_res_{img_res}_sz_{img_count}_SNR_{snr}\"\n",
    "folder_path = data_path+folder_name\n",
    "\n",
    "modulation_types = [\n",
    "    \"FM\",\n",
    "    \"PM\",\n",
    "    \"HYBRID\",\n",
    "]\n",
    "\n",
    "data = load_spectrogram_h5s(folder_path, modulation_types)"
   ]
  },
  {
   "cell_type": "code",
   "execution_count": null,
   "metadata": {},
   "outputs": [],
   "source": [
    "def convert_spectrogram_dict_to_xy(data_dict):\n",
    "    \"\"\"\n",
    "    Converts a dictionary of spectrograms into (X, y) format for ML.\n",
    "\n",
    "    Parameters:\n",
    "    - data_dict: Output from load_spectrogram_h5s(), e.g.\n",
    "        {\n",
    "            \"lfm_up\": {0: np.array, 1: np.array, ...},\n",
    "            \"bpsk\":   {0: np.array, ...},\n",
    "            ...\n",
    "        }\n",
    "\n",
    "    Returns:\n",
    "    - X: np.ndarray of shape (N, H, W, C)\n",
    "    - y: np.ndarray of shape (N,) with string labels like 'lfm_up'\n",
    "    \"\"\"\n",
    "    X_list = []\n",
    "    y_list = []\n",
    "\n",
    "    for label, spectros in data_dict.items():\n",
    "        for idx in sorted(spectros.keys()):\n",
    "            X_list.append(spectros[idx])\n",
    "            y_list.append(label)\n",
    "\n",
    "    X = np.array(X_list)\n",
    "    y = np.array(y_list)\n",
    "\n",
    "    return X, y\n"
   ]
  },
  {
   "cell_type": "code",
   "execution_count": null,
   "metadata": {},
   "outputs": [],
   "source": [
    "X, y = convert_spectrogram_dict_to_xy(data)"
   ]
  },
  {
   "cell_type": "code",
   "execution_count": null,
   "metadata": {},
   "outputs": [],
   "source": [
    "print(X.shape)\n",
    "print(y.shape)"
   ]
  },
  {
   "cell_type": "markdown",
   "metadata": {},
   "source": [
    "#### 1.4 Label Encoder"
   ]
  },
  {
   "cell_type": "code",
   "execution_count": null,
   "metadata": {},
   "outputs": [],
   "source": [
    "label_encoder = LabelEncoder()"
   ]
  },
  {
   "cell_type": "markdown",
   "metadata": {},
   "source": [
    "#### 1.5 Data Loader"
   ]
  },
  {
   "cell_type": "code",
   "execution_count": null,
   "metadata": {},
   "outputs": [],
   "source": [
    "def prepare_dataloader(X, y, batch_size=32, shuffle=False, num_workers=2, device=\"cpu\"):\n",
    "    # Convert NumPy arrays to PyTorch tensors\n",
    "    if isinstance(X, np.ndarray):\n",
    "        X = torch.tensor(X, dtype=torch.float32)\n",
    "    elif not isinstance(X, torch.Tensor):\n",
    "        raise TypeError(\"Input X must be a NumPy array or PyTorch tensor\")\n",
    "\n",
    "    if isinstance(y, np.ndarray):\n",
    "        y = torch.tensor(y, dtype=torch.long)\n",
    "    elif not isinstance(y, torch.Tensor):\n",
    "        raise TypeError(\"Labels y must be a NumPy array or PyTorch tensor\")\n",
    "\n",
    "    # Ensure X has four dimensions (N, C, H, W)\n",
    "    if X.ndim == 3:  # If (N, H, W), add a channel dimension\n",
    "        X = X.unsqueeze(1)  # (N, 1, H, W)\n",
    "    elif X.ndim == 4 and X.shape[-1] in [1, 3]:  # (N, H, W, C) case\n",
    "        X = X.permute(0, 3, 1, 2)  # Convert to (N, C, H, W)\n",
    "\n",
    "    # Move data to the correct device\n",
    "    X, y = X.to(device), y.to(device)\n",
    "\n",
    "    # Create dataset and dataloader\n",
    "    dataset = TensorDataset(X, y)\n",
    "    loader = DataLoader(\n",
    "        dataset,\n",
    "        batch_size=batch_size,\n",
    "        shuffle=shuffle,\n",
    "        num_workers=num_workers,\n",
    "        pin_memory=(device == \"cuda\"),\n",
    "    )\n",
    "\n",
    "    return loader"
   ]
  },
  {
   "cell_type": "markdown",
   "metadata": {},
   "source": [
    "### 2 Pre-processing"
   ]
  },
  {
   "cell_type": "code",
   "execution_count": null,
   "metadata": {},
   "outputs": [],
   "source": [
    "y_encoded = label_encoder.fit_transform(y)"
   ]
  },
  {
   "cell_type": "code",
   "execution_count": null,
   "metadata": {},
   "outputs": [],
   "source": [
    "X_pre_processed = pre_processing(X)"
   ]
  },
  {
   "cell_type": "code",
   "execution_count": null,
   "metadata": {},
   "outputs": [],
   "source": [
    "X_train, X_test, y_train, y_test = train_test_split(\n",
    "    X_pre_processed, y_encoded, test_size=0.2, stratify=y_encoded, random_state=42\n",
    ")"
   ]
  },
  {
   "cell_type": "code",
   "execution_count": null,
   "metadata": {},
   "outputs": [],
   "source": [
    "unique_train, counts_train = np.unique(y_train, return_counts=True)\n",
    "unique_test, counts_test = np.unique(y_test, return_counts=True)\n",
    "\n",
    "print(\"Class Distribution in Training Set:\")\n",
    "for label, count in zip(unique_train, counts_train):\n",
    "    print(f\"Class {label}: {count} samples\")\n",
    "\n",
    "print(\"\\nClass Distribution in Test Set:\")\n",
    "for label, count in zip(unique_test, counts_test):\n",
    "    print(f\"Class {label}: {count} samples\")"
   ]
  },
  {
   "cell_type": "markdown",
   "metadata": {},
   "source": [
    "#### 2.1 Pre-processing Display"
   ]
  },
  {
   "cell_type": "code",
   "execution_count": null,
   "metadata": {},
   "outputs": [],
   "source": [
    "# selected_display = np.random.randint(len(X_train))\n",
    "selected_display = 0"
   ]
  },
  {
   "cell_type": "code",
   "execution_count": null,
   "metadata": {},
   "outputs": [],
   "source": [
    "print(\"Train Images shape:\", X_pre_processed.shape)\n",
    "print(\"Train Metadata shape:\", y_encoded.shape)\n",
    "print(f\"{y[selected_display]} = {y_encoded[selected_display]}\")"
   ]
  },
  {
   "cell_type": "code",
   "execution_count": null,
   "metadata": {},
   "outputs": [],
   "source": [
    "plt.imshow(X[selected_display])\n",
    "plt.show()\n",
    "print(X[selected_display].shape)"
   ]
  },
  {
   "cell_type": "code",
   "execution_count": null,
   "metadata": {},
   "outputs": [],
   "source": [
    "plt.imshow(X_pre_processed[selected_display], cmap=\"grey\")\n",
    "plt.show()\n",
    "print(X_pre_processed[selected_display].shape)\n"
   ]
  },
  {
   "cell_type": "markdown",
   "metadata": {},
   "source": [
    "### 3 Training"
   ]
  },
  {
   "cell_type": "markdown",
   "metadata": {},
   "source": [
    "#### 3.1 Training Setup"
   ]
  },
  {
   "cell_type": "code",
   "execution_count": null,
   "metadata": {},
   "outputs": [],
   "source": [
    "class SSRLoss(nn.Module):\n",
    "    def __init__(self, num_classes, feature_dim, lambda_reg=0.12):\n",
    "        super(SSRLoss, self).__init__()\n",
    "        self.lambda_reg = lambda_reg  # Weight factor for L1 loss\n",
    "        self.num_classes = num_classes\n",
    "        self.feature_dim = feature_dim\n",
    "        self.centers = nn.Parameter(torch.randn(num_classes, feature_dim))  # Learnable class centers\n",
    "        self.cross_entropy = nn.CrossEntropyLoss()\n",
    "\n",
    "    def forward(self, features, labels, logits):\n",
    "        \"\"\"\n",
    "        :param features: Feature vectors before FC layer (batch_size, feature_dim)\n",
    "        :param labels: Class labels (batch_size,)\n",
    "        :param logits: Output logits before softmax (batch_size, num_classes)\n",
    "        \"\"\"\n",
    "        # Compute softmax loss\n",
    "        loss_softmax = self.cross_entropy(logits, labels)\n",
    "\n",
    "        # Get the class centers for each sample\n",
    "        centers_batch = self.centers[labels]  # Shape: (batch_size, feature_dim)\n",
    "\n",
    "        # Compute self-regularization loss (L1 distance)\n",
    "        loss_reg = torch.mean(torch.abs(features - centers_batch))\n",
    "\n",
    "        # Final SSR-Loss\n",
    "        loss = loss_softmax + self.lambda_reg * loss_reg\n",
    "        return loss"
   ]
  },
  {
   "cell_type": "code",
   "execution_count": null,
   "metadata": {},
   "outputs": [],
   "source": [
    "def train_model(\n",
    "    model,\n",
    "    train_loader,\n",
    "    device,\n",
    "    criterion,  # SSRLoss should be passed here\n",
    "    optimizer,\n",
    "    scheduler=None,  # 🔧 Optional scheduler added\n",
    "    epochs=10,\n",
    "    patience=3,\n",
    "    min_delta=0.0,\n",
    "):\n",
    "    \"\"\"\n",
    "    Trains the model with SSR-Loss.\n",
    "\n",
    "    :param model: The PyTorch model (should return features and logits)\n",
    "    :param train_loader: DataLoader for training\n",
    "    :param device: CUDA or CPU\n",
    "    :param criterion: SSRLoss instance\n",
    "    :param optimizer: PyTorch optimizer (Adam or SGD)\n",
    "    :param scheduler: Learning rate scheduler (optional)\n",
    "    :param epochs: Number of training epochs\n",
    "    :param patience: Early stopping patience\n",
    "    :param min_delta: Minimum loss improvement for early stopping\n",
    "    :return: List of epoch losses\n",
    "    \"\"\"\n",
    "\n",
    "    model.to(device)\n",
    "    model.train()\n",
    "\n",
    "    loss_history = []\n",
    "    best_loss = float(\"inf\")\n",
    "    patience_counter = 0\n",
    "\n",
    "    for epoch in range(epochs):\n",
    "        total_loss = 0.0\n",
    "\n",
    "        # Progress bar for visualization\n",
    "        progress_bar = tqdm(\n",
    "            train_loader,\n",
    "            desc=f\"Epoch {epoch+1}/{epochs}\",\n",
    "            leave=True,\n",
    "            dynamic_ncols=True,\n",
    "        )\n",
    "\n",
    "        for inputs, labels in progress_bar:\n",
    "            inputs, labels = inputs.to(device), labels.to(device)\n",
    "\n",
    "            optimizer.zero_grad()\n",
    "\n",
    "            # Forward pass - model should return (features, logits)\n",
    "            features, logits = model(inputs)\n",
    "\n",
    "            # Compute SSR-Loss using features and logits\n",
    "            loss = criterion(features, labels, logits)\n",
    "\n",
    "            # Backpropagation\n",
    "            loss.backward()\n",
    "            optimizer.step()\n",
    "\n",
    "            total_loss += loss.item()\n",
    "\n",
    "            # Live loss display\n",
    "            progress_bar.set_postfix({\"Loss\": f\"{loss.item():.4f}\"})\n",
    "\n",
    "        # Average loss for the epoch\n",
    "        avg_loss = total_loss / len(train_loader)\n",
    "        loss_history.append(avg_loss)\n",
    "\n",
    "        print(f\"Epoch {epoch+1} average loss: {avg_loss:.4f}\")\n",
    "\n",
    "        model_file_name = f\"model_latest\"\n",
    "        if epoch % 5:\n",
    "            torch.save(model, model_file_name + \".pth\")\n",
    "\n",
    "        # 🔄 Scheduler step\n",
    "        if scheduler:\n",
    "            scheduler.step()\n",
    "\n",
    "        # Early stopping check\n",
    "        if avg_loss < best_loss - min_delta:\n",
    "            best_loss = avg_loss\n",
    "            patience_counter = 0\n",
    "        else:\n",
    "            patience_counter += 1\n",
    "            if patience_counter >= patience:\n",
    "                print(f\"Early stopping triggered at epoch {epoch+1}\")\n",
    "                break\n",
    "\n",
    "    return loss_history\n"
   ]
  },
  {
   "cell_type": "markdown",
   "metadata": {},
   "source": [
    "##### Loss Curve"
   ]
  },
  {
   "cell_type": "code",
   "execution_count": null,
   "metadata": {},
   "outputs": [],
   "source": [
    "def plot_loss_curve(loss_history, title=\"Training Loss Over Epochs\"):\n",
    "    epochs = len(loss_history)\n",
    "\n",
    "    plt.figure(figsize=(8, 5))\n",
    "    plt.plot(range(1, epochs + 1), loss_history, marker=\"o\", label=\"Training Loss\")\n",
    "    plt.xlabel(\"Epochs\")\n",
    "    plt.ylabel(\"Loss\")\n",
    "    plt.title(title)\n",
    "    plt.legend()\n",
    "    plt.grid()\n",
    "    plt.show()"
   ]
  },
  {
   "cell_type": "markdown",
   "metadata": {},
   "source": [
    "##### Conf Matirx"
   ]
  },
  {
   "cell_type": "code",
   "execution_count": null,
   "metadata": {},
   "outputs": [],
   "source": [
    "def display_confusion_matrix(\n",
    "    model, data_loader, device, class_names=None, title=\"Confusion Matrix\"\n",
    "):\n",
    "    \"\"\"\n",
    "    Generate and display a normalized confusion matrix for a trained model.\n",
    "    \n",
    "    Parameters:\n",
    "        model (torch.nn.Module): Trained PyTorch model.\n",
    "        data_loader (torch.utils.data.DataLoader): DataLoader for evaluation dataset.\n",
    "        device (torch.device): Device to run evaluation on (CPU/GPU).\n",
    "        class_names (list, optional): List of class names. If None, uses numeric indices.\n",
    "        title (str): Title of the confusion matrix plot.\n",
    "    \"\"\"\n",
    "    # Switch model to evaluation mode\n",
    "    model.to(device)\n",
    "    model.eval()\n",
    "\n",
    "    all_preds = []\n",
    "    all_labels = []\n",
    "\n",
    "    # Disable gradient calculations for inference\n",
    "    with torch.no_grad():\n",
    "        for inputs, labels in data_loader:\n",
    "            inputs, labels = inputs.to(device), labels.to(device)\n",
    "\n",
    "            # Forward pass: Ignore output_image, focus only on output_class\n",
    "            _, output_class = model(inputs)\n",
    "\n",
    "            # Get predicted class labels\n",
    "            preds = torch.argmax(output_class, dim=1)\n",
    "\n",
    "            all_preds.extend(preds.cpu().numpy())\n",
    "            all_labels.extend(labels.cpu().numpy())\n",
    "\n",
    "    # Compute confusion matrix\n",
    "    cm = confusion_matrix(all_labels, all_preds)\n",
    "    num_classes = cm.shape[0]\n",
    "    \n",
    "    # Normalize confusion matrix to percentages\n",
    "    cm_normalized = cm.astype(np.float32) / cm.sum(axis=1, keepdims=True) * 100\n",
    "\n",
    "    # If class_names isn't provided, use numeric class indices\n",
    "    if class_names is None:\n",
    "        class_names = [str(i) for i in range(num_classes)]\n",
    "\n",
    "    # Plotting the confusion matrix\n",
    "    plt.figure(figsize=(max(10, num_classes * 0.8), max(8, num_classes * 0.6)))  # Dynamic size\n",
    "    im = plt.imshow(cm_normalized, interpolation=\"nearest\", cmap=\"Blues\")\n",
    "    plt.title(title, fontsize=14)\n",
    "    plt.colorbar(im, label=\"Percentage\")  # Add colorbar with label\n",
    "\n",
    "    # Create tick marks for class labels\n",
    "    tick_marks = np.arange(num_classes)\n",
    "    plt.xticks(tick_marks, class_names, rotation=45, ha=\"right\", va=\"top\", fontsize=max(8, 12 - num_classes // 5))\n",
    "    plt.yticks(tick_marks, class_names, fontsize=max(8, 12 - num_classes // 5))\n",
    "\n",
    "    # Annotate the matrix cells with percentage values\n",
    "    thresh = cm_normalized.max() / 2.0\n",
    "    for i in range(num_classes):\n",
    "        for j in range(num_classes):\n",
    "            plt.text(\n",
    "                j,\n",
    "                i,\n",
    "                f\"{cm_normalized[i, j]:.1f}\",\n",
    "                ha=\"center\",\n",
    "                va=\"center\",\n",
    "                color=\"white\" if cm_normalized[i, j] > thresh else \"black\",\n",
    "                fontsize=max(8, 12 - num_classes // 5),\n",
    "            )\n",
    "\n",
    "    plt.ylabel(\"True Label\", fontsize=12, labelpad=10)\n",
    "    plt.xlabel(\"Predicted Label\", fontsize=12, labelpad=10)\n",
    "    \n",
    "    # Adjust layout with extra bottom margin for rotated labels\n",
    "    plt.tight_layout()\n",
    "    plt.subplots_adjust(bottom=0.2 + num_classes * 0.005)  # Dynamic bottom margin\n",
    "    \n",
    "    plt.show()"
   ]
  },
  {
   "cell_type": "markdown",
   "metadata": {},
   "source": [
    "#### 3.2 Model"
   ]
  },
  {
   "cell_type": "markdown",
   "metadata": {},
   "source": [
    "##### E1-5"
   ]
  },
  {
   "cell_type": "code",
   "execution_count": null,
   "metadata": {},
   "outputs": [],
   "source": [
    "class encoder(nn.Module):\n",
    "    def __init__(self, in_channels, out_channels):\n",
    "        super(encoder, self).__init__()\n",
    "\n",
    "        self.relu = nn.ReLU()\n",
    "\n",
    "        self.conv1 = nn.Conv2d(in_channels=in_channels, out_channels=out_channels, kernel_size=3, stride=2,padding=1)\n",
    "\n",
    "        self.conv2 = nn.Conv2d(in_channels=in_channels, out_channels=out_channels, kernel_size=3, stride=2,padding=1)\n",
    "        self.conv3 = nn.Conv2d(in_channels=out_channels, out_channels=out_channels, kernel_size=3, stride=1,padding=1)\n",
    "\n",
    "    def forward(self, x):\n",
    "\n",
    "        x1 = self.conv1(x)\n",
    "        x1 = self.relu(x1)\n",
    "\n",
    "        x2 = self.conv2(x)\n",
    "        x2 = self.relu(x2)\n",
    "        x2 = self.conv3(x2)\n",
    "\n",
    "        x = x1+x2\n",
    "\n",
    "        return x"
   ]
  },
  {
   "cell_type": "markdown",
   "metadata": {},
   "source": [
    "##### D1-3"
   ]
  },
  {
   "cell_type": "code",
   "execution_count": null,
   "metadata": {},
   "outputs": [],
   "source": [
    "class decoder(nn.Module):\n",
    "    def __init__(self, c1, c2, c3, c4):\n",
    "        super(decoder, self).__init__()\n",
    "\n",
    "        self.relu = nn.ReLU()\n",
    "\n",
    "        self.pool1 = nn.MaxPool2d(kernel_size=2)\n",
    "        self.conv1 = nn.Conv2d(in_channels=c1, out_channels=64, kernel_size=3 , stride=1,padding=1)\n",
    "\n",
    "        self.conv2 = nn.Conv2d(in_channels=c2, out_channels=64, kernel_size=3 , stride=1,padding=1)\n",
    "\n",
    "        self.upsample1 = nn.Upsample(scale_factor=(2, 2), mode='bilinear', align_corners=True)\n",
    "        self.conv3 = nn.Conv2d(in_channels=c3, out_channels=64, kernel_size=3 , stride=1,padding=1)\n",
    "\n",
    "        self.upsample2 = nn.Upsample(scale_factor=(2, 2), mode='bilinear', align_corners=True)\n",
    "        self.conv4 = nn.Conv2d(in_channels=c4, out_channels=64, kernel_size=3 , stride=1,padding=1)\n",
    "\n",
    "\n",
    "\n",
    "    def forward(self, x1, x2, x3, x4):\n",
    "\n",
    "        x1 = self.pool1(x1)\n",
    "        x1 = self.conv1(x1)\n",
    "\n",
    "        x2 = self.conv2(x2)\n",
    "\n",
    "        x3 = self.upsample1(x3)\n",
    "        x3 = self.conv3(x3)\n",
    "        \n",
    "        x4 = self.upsample2(x4)\n",
    "        x4 = self.conv4(x4)\n",
    "\n",
    "        x = torch.cat((x1,x2,x3,x4),dim=1)\n",
    "\n",
    "        return x"
   ]
  },
  {
   "cell_type": "markdown",
   "metadata": {},
   "source": [
    "##### D4"
   ]
  },
  {
   "cell_type": "code",
   "execution_count": null,
   "metadata": {},
   "outputs": [],
   "source": [
    "class decoder_4(nn.Module):\n",
    "    def __init__(self, c1, c2, c3):\n",
    "        super(decoder_4, self).__init__()\n",
    "\n",
    "        self.relu = nn.ReLU()\n",
    "\n",
    "        self.pool1 = nn.MaxPool2d(kernel_size=2)\n",
    "        self.conv1 = nn.Conv2d(in_channels=c1, out_channels=64, kernel_size=3 , stride=1,padding=1)\n",
    "\n",
    "        self.conv2 = nn.Conv2d(in_channels=c2, out_channels=64, kernel_size=3 , stride=1,padding=1)\n",
    "\n",
    "        self.upsample1 = nn.Upsample(scale_factor=(2, 2), mode='bilinear', align_corners=True)\n",
    "        self.conv3 = nn.Conv2d(in_channels=c3, out_channels=64, kernel_size=3 , stride=1,padding=1)\n",
    "\n",
    "\n",
    "    def forward(self, x1, x2, x3):\n",
    "\n",
    "        x1 = self.pool1(x1)\n",
    "        x1 = self.conv1(x1)\n",
    "\n",
    "        x2 = self.conv2(x2)\n",
    "\n",
    "        x3 = self.upsample1(x3)\n",
    "        x3 = self.conv3(x3)\n",
    "    \n",
    "        x = torch.cat((x1,x2,x3),dim=1)\n",
    "\n",
    "        return x"
   ]
  },
  {
   "cell_type": "markdown",
   "metadata": {},
   "source": [
    "##### LDC-Unet"
   ]
  },
  {
   "cell_type": "code",
   "execution_count": null,
   "metadata": {},
   "outputs": [],
   "source": [
    "class LDC_Unet(nn.Module):\n",
    "    def __init__(self):\n",
    "        super(LDC_Unet, self).__init__()\n",
    "\n",
    "        self.e1 = encoder(in_channels=3, out_channels=64)\n",
    "        self.e2 = encoder(in_channels=64, out_channels=128)\n",
    "        self.e3 = encoder(in_channels=128, out_channels=256)\n",
    "        self.e4 = encoder(in_channels=256, out_channels=256)\n",
    "        self.e5 = encoder(in_channels=256, out_channels=512)\n",
    "\n",
    "        self.d4 = decoder_4(c1=256 , c2=256, c3=512)\n",
    "        self.d3 = decoder(c1=128 , c2=256, c3=256, c4=192)\n",
    "        self.d2 = decoder(c1=64 , c2=128, c3=256, c4=256)\n",
    "        self.d1 = decoder(c1=3 , c2=64, c3=128, c4=256)\n",
    "\n",
    "        self.upsample = nn.Upsample(scale_factor=(2, 2), mode='bilinear', align_corners=True)\n",
    "        self.conv1 = nn.Conv2d(in_channels=256, out_channels=64, kernel_size=3, stride=1, padding=1)  # Change padding to 0\n",
    "        self.conv2 = nn.Conv2d(in_channels=64, out_channels=3, kernel_size=3, stride=1, padding=1)  # Increase padding to 2\n",
    "\n",
    "        \n",
    "\n",
    "    def forward(self, x):\n",
    "\n",
    "        x0 = x\n",
    "\n",
    "        x_e1 = self.e1(x0)\n",
    "\n",
    "        x_e2 = self.e2(x_e1)\n",
    "        x_e3 = self.e3(x_e2)\n",
    "        x_e4 = self.e4(x_e3)\n",
    "        x_e5 = self.e5(x_e4)\n",
    "\n",
    "        x_d4 = self.d4(x_e3, x_e4, x_e5)\n",
    "        x_d3 = self.d3(x_e2, x_e3, x_e4, x_d4)\n",
    "        x_d2 = self.d2(x_e1, x_e2, x_e3, x_d3)\n",
    "        x_d1 = self.d1(x0, x_e1, x_e2, x_d2)\n",
    "        \n",
    "        x = self.upsample(x_d1)\n",
    "        x = self.conv1(x)\n",
    "        x = self.conv2(x)\n",
    "\n",
    "        return x"
   ]
  },
  {
   "cell_type": "markdown",
   "metadata": {},
   "source": [
    "##### DCNN"
   ]
  },
  {
   "cell_type": "code",
   "execution_count": null,
   "metadata": {},
   "outputs": [],
   "source": [
    "class DCNN(nn.Module):\n",
    "    def __init__(self, num_classes):\n",
    "        super(DCNN, self).__init__()\n",
    "        \n",
    "        # Load pre-trained VGG19\n",
    "        self.vgg19 = models.vgg19(pretrained=True)\n",
    "\n",
    "        # Remove fully connected layers\n",
    "        self.features = self.vgg19.features  # Keep convolutional layers\n",
    "\n",
    "        # Custom classification block\n",
    "        self.classification_block = nn.Sequential(\n",
    "            nn.AdaptiveAvgPool2d((7, 7)),  # Ensure compatibility\n",
    "            nn.Flatten(),\n",
    "            nn.Linear(512 * 7 * 7, 4096),\n",
    "            nn.ReLU(inplace=True),\n",
    "            nn.Dropout(0.5),\n",
    "            nn.Linear(4096, 4096),\n",
    "            nn.ReLU(inplace=True),\n",
    "            nn.Dropout(0.5),\n",
    "            nn.Linear(4096, 256)  # Features before final classification\n",
    "        )\n",
    "\n",
    "        self.relu = nn.ReLU()\n",
    "        self.dropout1 = nn.Dropout(0.5)\n",
    "        self.dense_last = nn.Linear(256, num_classes)  # Final classification layer\n",
    "\n",
    "    def forward(self, x):\n",
    "        x = self.features(x)  # Extract CNN features\n",
    "        features = self.classification_block(x)  # Intermediate feature representation\n",
    "        features = self.relu(features)\n",
    "        features = self.dropout1(features)\n",
    "\n",
    "        logits = self.dense_last(features)  # Final classification output\n",
    "\n",
    "        return features, logits  # Return both features and logits\n"
   ]
  },
  {
   "cell_type": "markdown",
   "metadata": {},
   "source": [
    "##### Main Model"
   ]
  },
  {
   "cell_type": "code",
   "execution_count": null,
   "metadata": {},
   "outputs": [],
   "source": [
    "class MainModel(nn.Module):\n",
    "    def __init__(self, num_classes):\n",
    "        super(MainModel, self).__init__()\n",
    "\n",
    "        self.ldc_unet = LDC_Unet()\n",
    "\n",
    "        self.dcnn = DCNN(num_classes)\n",
    "        \n",
    "\n",
    "    def forward(self, x):\n",
    "\n",
    "        x = self.ldc_unet(x)\n",
    "\n",
    "        f, l = self.dcnn(x)\n",
    "\n",
    "        return f, l"
   ]
  },
  {
   "cell_type": "markdown",
   "metadata": {},
   "source": [
    "##### Model Summary"
   ]
  },
  {
   "cell_type": "code",
   "execution_count": null,
   "metadata": {},
   "outputs": [],
   "source": [
    "# model = MainModel(6)\n",
    "# summary(model , input_size=(1, 3, 128, 128))"
   ]
  },
  {
   "cell_type": "markdown",
   "metadata": {},
   "source": [
    "#### 3.3 Actual Training"
   ]
  },
  {
   "cell_type": "code",
   "execution_count": null,
   "metadata": {},
   "outputs": [],
   "source": [
    "# Prepare DataLoaders\n",
    "train_loader = prepare_dataloader(\n",
    "    X_train,\n",
    "    y_train,\n",
    "    batch_size=32,\n",
    "    shuffle=True,\n",
    ")"
   ]
  },
  {
   "cell_type": "code",
   "execution_count": null,
   "metadata": {},
   "outputs": [],
   "source": [
    "num_classes = len(np.unique(y_encoded))\n",
    "\n",
    "model = MainModel(num_classes=num_classes).to(device)\n",
    "\n",
    "\n",
    "# Define loss function and optimizer\n",
    "criterion = SSRLoss(num_classes=num_classes, feature_dim=256, lambda_reg=0.12).to(device)"
   ]
  },
  {
   "cell_type": "code",
   "execution_count": null,
   "metadata": {},
   "outputs": [],
   "source": [
    "learning_rate = 1e-4\n",
    "optimizer = optim.SGD(model.parameters(), lr=learning_rate, momentum=0.9, weight_decay=1e-5)\n",
    "scheduler = optim.lr_scheduler.StepLR(optimizer, step_size=45, gamma=0.1)"
   ]
  },
  {
   "cell_type": "code",
   "execution_count": null,
   "metadata": {},
   "outputs": [],
   "source": [
    "# Train the model\n",
    "epoch_count = 1\n",
    "loss_history = train_model(\n",
    "    model=model,\n",
    "    train_loader=train_loader,\n",
    "    criterion=criterion,\n",
    "    optimizer=optimizer,\n",
    "    device=device,\n",
    "    scheduler=scheduler,\n",
    "    epochs=epoch_count,\n",
    "    patience=50,\n",
    ")"
   ]
  },
  {
   "cell_type": "code",
   "execution_count": null,
   "metadata": {},
   "outputs": [],
   "source": [
    "plot_loss_curve(loss_history)"
   ]
  },
  {
   "cell_type": "code",
   "execution_count": null,
   "metadata": {},
   "outputs": [],
   "source": [
    "display_confusion_matrix(model, train_loader, device)"
   ]
  },
  {
   "cell_type": "markdown",
   "metadata": {},
   "source": [
    "#### 3.4 Save Model to File"
   ]
  },
  {
   "cell_type": "code",
   "execution_count": null,
   "metadata": {},
   "outputs": [],
   "source": [
    "mds = modulation_types[0]\n",
    "if len(modulation_types) == 3:\n",
    "    mds = \"ALL\"\n",
    "\n",
    "model_file_name = f\"LDC_Unet_model_e{epoch_count}_lr{learning_rate}_snr_{snr}_mds_{mds}\""
   ]
  },
  {
   "cell_type": "code",
   "execution_count": null,
   "metadata": {},
   "outputs": [],
   "source": [
    "torch.save(model, model_file_name + \".pth\")"
   ]
  },
  {
   "cell_type": "markdown",
   "metadata": {},
   "source": [
    "### 4 Testing"
   ]
  },
  {
   "cell_type": "code",
   "execution_count": null,
   "metadata": {},
   "outputs": [],
   "source": [
    "def evaluate_model(model, test_loader, label_encoder, device):\n",
    "    \"\"\"\n",
    "    Evaluates the trained model and displays accuracy, confusion matrix, F1-score,\n",
    "    and one output image per class.\n",
    "\n",
    "    Args:\n",
    "        model: Trained PyTorch model.\n",
    "        test_loader: DataLoader for test set.\n",
    "        label_encoder: Label encoder to decode class names.\n",
    "        device: 'cuda' or 'cpu' where evaluation happens.\n",
    "    \"\"\"\n",
    "    model.to(device)  # Ensure model is on correct device\n",
    "    model.eval()  # Set to evaluation mode\n",
    "\n",
    "    y_true = []\n",
    "    y_pred = []\n",
    "    correct = 0\n",
    "    total = 0\n",
    "\n",
    "    # Dictionary to store one image per class\n",
    "    class_images = {}\n",
    "\n",
    "    with torch.no_grad():\n",
    "        for inputs, labels in test_loader:\n",
    "            inputs = inputs.to(device)\n",
    "            labels = labels.to(device)\n",
    "\n",
    "            # Model returns (output_image, output_class)\n",
    "            output_image, output_class = model(inputs)\n",
    "\n",
    "            # Get predicted class (argmax over logits)\n",
    "            preds = torch.argmax(output_class, dim=1)\n",
    "\n",
    "            correct += (preds == labels).sum().item()\n",
    "            total += labels.size(0)\n",
    "\n",
    "            y_true.extend(labels.cpu().tolist())  # Move to CPU for metrics\n",
    "            y_pred.extend(preds.cpu().tolist())\n",
    "\n",
    "            # Store one output image per class\n",
    "            for img, pred_class in zip(output_image, preds):\n",
    "                pred_class = pred_class.item()\n",
    "                if pred_class not in class_images:\n",
    "                    class_images[pred_class] = img.cpu()\n",
    "\n",
    "    # Compute Accuracy\n",
    "    accuracy = 100 * correct / total\n",
    "    print(f\"Accuracy: {accuracy:.2f}%\")\n",
    "\n",
    "    # Compute & Display Confusion Matrix\n",
    "    class_names = label_encoder.classes_  # Decode label names\n",
    "    cm = confusion_matrix(y_true, y_pred)\n",
    "    # Normalize confusion matrix to percentages\n",
    "    cm_normalized = cm.astype(np.float32) / cm.sum(axis=1, keepdims=True) * 100\n",
    "    num_classes = len(class_names)\n",
    "\n",
    "    # Plot confusion matrix\n",
    "    fig, ax = plt.subplots(figsize=(max(10, num_classes * 0.8), max(8, num_classes * 0.6)))  # Dynamic size\n",
    "    disp = ConfusionMatrixDisplay(confusion_matrix=cm_normalized, display_labels=class_names)\n",
    "    disp.plot(cmap=\"Blues\", values_format=\".1f\", ax=ax)  # Use 1 decimal place for percentages\n",
    "\n",
    "    # Adjust x-axis label alignment and font sizes\n",
    "    ax.set_xticklabels(class_names, rotation=45, ha=\"right\", va=\"top\", fontsize=max(8, 12 - num_classes // 5))\n",
    "    ax.set_yticklabels(class_names, rotation=0, fontsize=max(8, 12 - num_classes // 5))\n",
    "    ax.set_xlabel(\"Predicted Label\", fontsize=12, labelpad=10)\n",
    "    ax.set_ylabel(\"True Label\", fontsize=12, labelpad=10)\n",
    "    ax.set_title(\"Confusion Matrix (Percentage)\", fontsize=14)\n",
    "\n",
    "    # Adjust layout with extra bottom margin for rotated labels\n",
    "    plt.tight_layout()\n",
    "    plt.subplots_adjust(bottom=0.2 + num_classes * 0.005)  # Dynamic bottom margin\n",
    "\n",
    "    plt.show()\n",
    "\n",
    "    # Print Classification Report (Precision, Recall, F1-score)\n",
    "    print(\"\\nClassification Report:\")\n",
    "    print(classification_report(y_true, y_pred, target_names=class_names))"
   ]
  },
  {
   "cell_type": "code",
   "execution_count": null,
   "metadata": {},
   "outputs": [],
   "source": [
    "# Prepare DataLoaders\n",
    "test_loader = prepare_dataloader(\n",
    "    X_test,\n",
    "    y_test,\n",
    "    batch_size=32,\n",
    ")"
   ]
  },
  {
   "cell_type": "code",
   "execution_count": null,
   "metadata": {},
   "outputs": [],
   "source": [
    "# Evaluate the model\n",
    "evaluate_model(model, test_loader, label_encoder, device)"
   ]
  }
 ],
 "metadata": {
  "kernelspec": {
   "display_name": "Python 3",
   "language": "python",
   "name": "python3"
  },
  "language_info": {
   "codemirror_mode": {
    "name": "ipython",
    "version": 3
   },
   "file_extension": ".py",
   "mimetype": "text/x-python",
   "name": "python",
   "nbconvert_exporter": "python",
   "pygments_lexer": "ipython3",
   "version": "3.12.10"
  }
 },
 "nbformat": 4,
 "nbformat_minor": 2
}
