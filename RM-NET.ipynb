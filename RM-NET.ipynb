{
 "cells": [
  {
   "cell_type": "markdown",
   "metadata": {},
   "source": [
    "# Improved Radar Signal Recognition by Combining ResNet with Transformer Learning"
   ]
  },
  {
   "cell_type": "markdown",
   "metadata": {},
   "source": [
    "### 1 Setup"
   ]
  },
  {
   "cell_type": "markdown",
   "metadata": {},
   "source": [
    "#### 1.1 Imports"
   ]
  },
  {
   "cell_type": "code",
   "execution_count": null,
   "metadata": {},
   "outputs": [],
   "source": [
    "import torch\n",
    "import torch.nn as nn\n",
    "from torchinfo import summary\n",
    "from torch.utils.data import DataLoader, TensorDataset\n",
    "from sklearn.model_selection import train_test_split\n",
    "import h5py\n",
    "import numpy as np\n",
    "from sklearn.preprocessing import LabelEncoder\n",
    "import torch.optim as optim\n",
    "import matplotlib.pyplot as plt\n",
    "from sklearn.metrics import confusion_matrix, ConfusionMatrixDisplay\n",
    "from tqdm import tqdm\n",
    "from sklearn.metrics import confusion_matrix, ConfusionMatrixDisplay, classification_report\n",
    "import cv2\n",
    "import seaborn as sns\n",
    "import os"
   ]
  },
  {
   "cell_type": "markdown",
   "metadata": {},
   "source": [
    "#### 1.2 Device Selection"
   ]
  },
  {
   "cell_type": "code",
   "execution_count": null,
   "metadata": {},
   "outputs": [],
   "source": [
    "device = torch.device(\"cuda\" if torch.cuda.is_available() else \"cpu\")\n",
    "print(\"Using device:\", device)"
   ]
  },
  {
   "cell_type": "markdown",
   "metadata": {},
   "source": [
    "#### 1.3 Data Input"
   ]
  },
  {
   "cell_type": "code",
   "execution_count": null,
   "metadata": {},
   "outputs": [],
   "source": [
    "def load_spectrogram_h5s(root_folder, mod_types):\n",
    "    \"\"\"\n",
    "    Loads all .h5 spectrogram files from the specified modulation types\n",
    "    and returns a dict structured as:\n",
    "      {\n",
    "          \"lfm_up\": {\n",
    "              0: <np.ndarray>,\n",
    "              1: <np.ndarray>,\n",
    "              ...\n",
    "          },\n",
    "          ...\n",
    "      }\n",
    "\n",
    "    Parameters:\n",
    "    - root_folder (str): Path to the top-level \"spectrograms\" directory.\n",
    "    - mod_types (list): List of modulation families to include, e.g. ['FM', 'PM']\n",
    "\n",
    "    Returns:\n",
    "    - Dictionary containing all spectrograms, indexed by modulation name and integer index.\n",
    "    \"\"\"\n",
    "    spectrogram_dict = {}\n",
    "\n",
    "    for mod_type in mod_types:\n",
    "        mod_path = os.path.join(root_folder, mod_type)\n",
    "        if not os.path.exists(mod_path):\n",
    "            print(f\"⚠️ Warning: {mod_path} does not exist. Skipping.\")\n",
    "            continue\n",
    "\n",
    "        print(f\"📂 Loading from {mod_type}...\")\n",
    "        files = [f for f in os.listdir(mod_path) if f.endswith(\".h5\")]\n",
    "\n",
    "        for file in tqdm(files, desc=f\"   {mod_type}\", unit=\"file\"):\n",
    "            mod_name = file[:-3]  # Strip '.h5'\n",
    "            file_path = os.path.join(mod_path, file)\n",
    "            spectrogram_dict[mod_name] = {}\n",
    "\n",
    "            try:\n",
    "                with h5py.File(file_path, \"r\") as h5f:\n",
    "                    for key in h5f.keys():\n",
    "                        idx = int(key)  # Convert string index to int\n",
    "                        spectrogram_dict[mod_name][idx] = np.array(h5f[key])\n",
    "            except Exception as e:\n",
    "                print(f\"❌ Failed to load {file_path}: {e}\")\n",
    "\n",
    "    return spectrogram_dict\n"
   ]
  },
  {
   "cell_type": "code",
   "execution_count": null,
   "metadata": {},
   "outputs": [],
   "source": [
    "# Ensure the main directory exists\n",
    "data_path = \"C:/Users/scocks/Documents/hehehehehehhe/images/\"\n",
    "os.makedirs(data_path, exist_ok=True)\n",
    "\n",
    "img_res = 224\n",
    "img_count = 1000\n",
    "snr = 0\n",
    "\n",
    "\n",
    "folder_name = f\"General_Images_res_{img_res}_sz_{img_count}_SNR_{snr}\"\n",
    "folder_path = data_path+folder_name\n",
    "\n",
    "modulation_types = [\n",
    "    \"FM\",\n",
    "    \"PM\",\n",
    "    \"HYBRID\",\n",
    "]\n",
    "\n",
    "data = load_spectrogram_h5s(folder_path, modulation_types)"
   ]
  },
  {
   "cell_type": "markdown",
   "metadata": {},
   "source": [
    "##### 1.3.6 Conversion"
   ]
  },
  {
   "cell_type": "code",
   "execution_count": null,
   "metadata": {},
   "outputs": [],
   "source": [
    "def convert_spectrogram_dict_to_xy(data_dict):\n",
    "    \"\"\"\n",
    "    Converts a dictionary of spectrograms into (X, y) format for ML.\n",
    "\n",
    "    Parameters:\n",
    "    - data_dict: Output from load_spectrogram_h5s(), e.g.\n",
    "        {\n",
    "            \"lfm_up\": {0: np.array, 1: np.array, ...},\n",
    "            \"bpsk\":   {0: np.array, ...},\n",
    "            ...\n",
    "        }\n",
    "\n",
    "    Returns:\n",
    "    - X: np.ndarray of shape (N, H, W, C)\n",
    "    - y: np.ndarray of shape (N,) with string labels like 'lfm_up'\n",
    "    \"\"\"\n",
    "    X_list = []\n",
    "    y_list = []\n",
    "\n",
    "    for label, spectros in data_dict.items():\n",
    "        for idx in sorted(spectros.keys()):\n",
    "            X_list.append(spectros[idx])\n",
    "            y_list.append(label)\n",
    "\n",
    "    X = np.array(X_list)\n",
    "    y = np.array(y_list)\n",
    "\n",
    "    return X, y\n"
   ]
  },
  {
   "cell_type": "code",
   "execution_count": null,
   "metadata": {},
   "outputs": [],
   "source": [
    "X, y = convert_spectrogram_dict_to_xy(data)"
   ]
  },
  {
   "cell_type": "code",
   "execution_count": null,
   "metadata": {},
   "outputs": [],
   "source": [
    "print(X.shape)\n",
    "print(y.shape)"
   ]
  },
  {
   "cell_type": "markdown",
   "metadata": {},
   "source": [
    "#### 1.4 Label Encoder"
   ]
  },
  {
   "cell_type": "code",
   "execution_count": null,
   "metadata": {},
   "outputs": [],
   "source": [
    "label_encoder = LabelEncoder()"
   ]
  },
  {
   "cell_type": "markdown",
   "metadata": {},
   "source": [
    "#### 1.5 Data Loader"
   ]
  },
  {
   "cell_type": "code",
   "execution_count": null,
   "metadata": {},
   "outputs": [],
   "source": [
    "def prepare_dataloader(X, y, batch_size=32, shuffle=False, num_workers=2, device=\"cpu\"):\n",
    "    # Convert NumPy arrays to PyTorch tensors\n",
    "    if isinstance(X, np.ndarray):\n",
    "        X = torch.tensor(X, dtype=torch.float32)\n",
    "    elif not isinstance(X, torch.Tensor):\n",
    "        raise TypeError(\"Input X must be a NumPy array or PyTorch tensor\")\n",
    "\n",
    "    if isinstance(y, np.ndarray):\n",
    "        y = torch.tensor(y, dtype=torch.long)\n",
    "    elif not isinstance(y, torch.Tensor):\n",
    "        raise TypeError(\"Labels y must be a NumPy array or PyTorch tensor\")\n",
    "\n",
    "    # Ensure X has four dimensions (N, C, H, W)\n",
    "    if X.ndim == 3:  # If (N, H, W), add a channel dimension\n",
    "        X = X.unsqueeze(1)  # (N, 1, H, W)\n",
    "    elif X.ndim == 4 and X.shape[-1] in [1, 3]:  # (N, H, W, C) case\n",
    "        X = X.permute(0, 3, 1, 2)  # Convert to (N, C, H, W)\n",
    "\n",
    "    # Move data to the correct device\n",
    "    X, y = X.to(device), y.to(device)\n",
    "\n",
    "    # Create dataset and dataloader\n",
    "    dataset = TensorDataset(X, y)\n",
    "    loader = DataLoader(dataset, batch_size=batch_size, shuffle=shuffle, num_workers=num_workers, pin_memory=(device==\"cuda\"))\n",
    "\n",
    "    return loader\n"
   ]
  },
  {
   "cell_type": "markdown",
   "metadata": {},
   "source": [
    "#### 1.6 Data File/Folder Paths"
   ]
  },
  {
   "cell_type": "code",
   "execution_count": null,
   "metadata": {},
   "outputs": [],
   "source": [
    "# DATA_FOLDER = \"../Data/\""
   ]
  },
  {
   "cell_type": "code",
   "execution_count": null,
   "metadata": {},
   "outputs": [],
   "source": [
    "# dataset_file = DATA_FOLDER + \"images_num1000_snr0dB_sz500.h5\""
   ]
  },
  {
   "cell_type": "code",
   "execution_count": null,
   "metadata": {},
   "outputs": [],
   "source": [
    "# X,y = read_images_and_metadata(dataset_file)"
   ]
  },
  {
   "cell_type": "markdown",
   "metadata": {},
   "source": [
    "### 2 Pre-processing"
   ]
  },
  {
   "cell_type": "code",
   "execution_count": null,
   "metadata": {},
   "outputs": [],
   "source": [
    "def pre_processing(images):\n",
    "    # Greyscale conversion through maths\n",
    "    gray_images = np.dot(images[..., :3], [0.2989, 0.5870, 0.1140]).astype(np.uint8)\n",
    "\n",
    "    # Binarisation through threshold\n",
    "    binary_images = (gray_images >= 128).astype(np.uint8)\n",
    "    \n",
    "    return binary_images"
   ]
  },
  {
   "cell_type": "code",
   "execution_count": null,
   "metadata": {},
   "outputs": [],
   "source": [
    "y_encoded = label_encoder.fit_transform(y)"
   ]
  },
  {
   "cell_type": "code",
   "execution_count": null,
   "metadata": {},
   "outputs": [],
   "source": [
    "X_pre_processed = pre_processing(X)"
   ]
  },
  {
   "cell_type": "code",
   "execution_count": null,
   "metadata": {},
   "outputs": [],
   "source": [
    "X_train, X_test, y_train, y_test = train_test_split(X_pre_processed, y_encoded, test_size=0.2, stratify=y_encoded,random_state=42)"
   ]
  },
  {
   "cell_type": "code",
   "execution_count": null,
   "metadata": {},
   "outputs": [],
   "source": [
    "unique_train, counts_train = np.unique(y_train, return_counts=True)\n",
    "unique_test, counts_test = np.unique(y_test, return_counts=True)\n",
    "\n",
    "print(\"Class Distribution in Training Set:\")\n",
    "for label, count in zip(unique_train, counts_train):\n",
    "    print(f\"Class {label}: {count} samples\")\n",
    "\n",
    "print(\"\\nClass Distribution in Test Set:\")\n",
    "for label, count in zip(unique_test, counts_test):\n",
    "    print(f\"Class {label}: {count} samples\")"
   ]
  },
  {
   "cell_type": "markdown",
   "metadata": {},
   "source": [
    "#### 2.1 Pre-processing Display"
   ]
  },
  {
   "cell_type": "code",
   "execution_count": null,
   "metadata": {},
   "outputs": [],
   "source": [
    "# selected_display = np.random.randint(len(X_train))\n",
    "selected_display = 0"
   ]
  },
  {
   "cell_type": "code",
   "execution_count": null,
   "metadata": {},
   "outputs": [],
   "source": [
    "print(\"Train Images shape:\", X_pre_processed.shape)\n",
    "print(\"Train Metadata shape:\", y_encoded.shape)\n",
    "print(f\"{y[selected_display]} = {y_encoded[selected_display]}\")"
   ]
  },
  {
   "cell_type": "code",
   "execution_count": null,
   "metadata": {},
   "outputs": [],
   "source": [
    "plt.imshow(X[selected_display])\n",
    "plt.show()"
   ]
  },
  {
   "cell_type": "code",
   "execution_count": null,
   "metadata": {},
   "outputs": [],
   "source": [
    "plt.imshow(X_pre_processed[selected_display], cmap=\"grey\")\n",
    "plt.show()\n",
    "print(X_pre_processed[selected_display].shape)\n"
   ]
  },
  {
   "cell_type": "markdown",
   "metadata": {},
   "source": [
    "### 3 Training"
   ]
  },
  {
   "cell_type": "markdown",
   "metadata": {},
   "source": [
    "#### 3.1 Training Setup"
   ]
  },
  {
   "cell_type": "code",
   "execution_count": null,
   "metadata": {},
   "outputs": [],
   "source": [
    "def train_model_separate_optim(\n",
    "    model, train_loader, scr_loss_fn, model_optimizer, center_optimizer, \n",
    "    device, epochs=10, patience=3, min_delta=0.0\n",
    "):\n",
    "    \"\"\"\n",
    "    Trains the model with SCR-loss using separate optimizers for model and center-loss parameters.\n",
    "    Includes Jupyter-compatible progress bar and early stopping.\n",
    "\n",
    "    Parameters:\n",
    "        model (torch.nn.Module): The model to train.\n",
    "        train_loader (DataLoader): DataLoader for training data.\n",
    "        scr_loss_fn (callable): SCR loss function.\n",
    "        model_optimizer (torch.optim.Optimizer): Optimizer for model parameters.\n",
    "        center_optimizer (torch.optim.Optimizer): Optimizer for center-loss parameters.\n",
    "        device (torch.device): Device to run the model on.\n",
    "        epochs (int): Maximum number of epochs.\n",
    "        patience (int): Number of epochs with no improvement before early stopping.\n",
    "        min_delta (float): Minimum loss improvement to reset patience.\n",
    "    \n",
    "    Returns:\n",
    "        loss_history (list): A list containing the average loss per epoch.\n",
    "    \"\"\"\n",
    "    model.to(device)\n",
    "    model.train()\n",
    "    loss_history = []\n",
    "\n",
    "    best_loss = float('inf')\n",
    "    patience_counter = 0\n",
    "    \n",
    "    for epoch in range(epochs):\n",
    "        total_loss = 0.0\n",
    "\n",
    "        # Use tqdm for Jupyter compatibility\n",
    "        progress_bar = tqdm(train_loader, desc=f\"Epoch {epoch+1}/{epochs}\", leave=True, dynamic_ncols=True)\n",
    "\n",
    "        for inputs, labels in progress_bar:  \n",
    "            inputs = inputs.to(device)\n",
    "            labels = labels.to(device)\n",
    "\n",
    "            # ======== Step 1: Train Model (Cross-Entropy + Center Loss) ========\n",
    "            model_optimizer.zero_grad()\n",
    "            \n",
    "            # Forward pass (get logits & feature embeddings)\n",
    "            logits, features = model(inputs)\n",
    "\n",
    "            # Compute SCR loss (returns total_loss, cross-entropy loss, center-loss)\n",
    "            total_loss, loss_ce, loss_c = scr_loss_fn(logits, features, labels)\n",
    "\n",
    "            # Backpropagate for model parameters (CE + Center loss together)\n",
    "            total_loss.backward()\n",
    "            model_optimizer.step()  # Update model weights\n",
    "\n",
    "            # ======== Step 2: Train Center Loss Separately ========\n",
    "            center_optimizer.zero_grad()\n",
    "            \n",
    "            # Compute center-loss again (this ensures it uses up-to-date embeddings)\n",
    "            _, _, loss_c = scr_loss_fn(logits.detach(), features.detach(), labels)\n",
    "\n",
    "            # Backpropagate **only center-loss for center parameters**\n",
    "            loss_c.backward()\n",
    "            center_optimizer.step()  # Update center vectors separately\n",
    "\n",
    "            total_loss += total_loss.item()\n",
    "\n",
    "            # Live loss update in Jupyter\n",
    "            progress_bar.set_postfix({'Total': f\"{total_loss.item():.4f}\", 'CE': f\"{loss_ce.item():.4f}\", 'Center': f\"{loss_c.item():.4f}\"})\n",
    "\n",
    "        # Average training loss for the epoch\n",
    "        avg_loss = total_loss / len(train_loader)\n",
    "        loss_history.append(avg_loss)\n",
    "\n",
    "        print(f\"Epoch {epoch+1} average loss: {avg_loss:.4f}\")\n",
    "\n",
    "        # Early stopping check\n",
    "        if avg_loss < best_loss - min_delta:\n",
    "            best_loss = avg_loss\n",
    "            patience_counter = 0  # Reset patience counter on improvement\n",
    "        else:\n",
    "            patience_counter += 1\n",
    "            if patience_counter >= patience:\n",
    "                print(f\"Early stopping triggered at epoch {epoch+1}\")\n",
    "                break  # Exit training loop\n",
    "\n",
    "    return loss_history"
   ]
  },
  {
   "cell_type": "code",
   "execution_count": null,
   "metadata": {},
   "outputs": [],
   "source": [
    "def plot_loss_curve(loss_history, title=\"Training Loss Over Epochs\"):\n",
    "    \"\"\"\n",
    "    Plots the loss values from `loss_history` against the corresponding epochs.\n",
    "\n",
    "    Args:\n",
    "        loss_history (list): A list of loss values (can be torch tensors, including CUDA).\n",
    "        title (str): The title of the plot.\n",
    "    \"\"\"\n",
    "    # Safely convert all elements to CPU floats\n",
    "    loss_values = [loss.detach().cpu().item() if hasattr(loss, \"detach\") else float(loss) for loss in loss_history]\n",
    "\n",
    "    epochs = len(loss_values)\n",
    "\n",
    "    plt.figure(figsize=(8, 5))\n",
    "    plt.plot(range(1, epochs + 1), loss_values, marker=\"o\", label=\"Training Loss\")\n",
    "    plt.xlabel(\"Epochs\")\n",
    "    plt.ylabel(\"Loss\")\n",
    "    plt.title(title)\n",
    "    plt.legend()\n",
    "    plt.grid()\n",
    "    plt.show()\n"
   ]
  },
  {
   "cell_type": "code",
   "execution_count": null,
   "metadata": {},
   "outputs": [],
   "source": [
    "def display_confusion_matrix(\n",
    "    model, data_loader, device, class_names=None, title=\"Confusion Matrix\"\n",
    "):\n",
    "    \"\"\"\n",
    "    Generate and display a normalized confusion matrix for a trained model.\n",
    "    \n",
    "    Parameters:\n",
    "        model (torch.nn.Module): Trained PyTorch model.\n",
    "        data_loader (torch.utils.data.DataLoader): DataLoader for evaluation dataset.\n",
    "        device (torch.device): Device to run evaluation on (CPU/GPU).\n",
    "        class_names (list, optional): List of class names. If None, uses numeric indices.\n",
    "        title (str): Title of the confusion matrix plot.\n",
    "    \"\"\"\n",
    "    # Switch to evaluation mode\n",
    "    model.to(device)  # Ensure model is on correct device\n",
    "    model.eval()\n",
    "\n",
    "    # Lists to store all predictions and labels\n",
    "    all_preds = []\n",
    "    all_labels = []\n",
    "\n",
    "    # Disable gradient calculations for inference\n",
    "    with torch.no_grad():\n",
    "        for inputs, labels in data_loader:\n",
    "            inputs, labels = inputs.to(device), labels.to(device)\n",
    "            logits, _ = model(inputs)\n",
    "            preds = torch.argmax(logits, dim=1)\n",
    "            all_preds.extend(preds.cpu().numpy())\n",
    "            all_labels.extend(labels.cpu().numpy())\n",
    "\n",
    "    # Compute confusion matrix\n",
    "    cm = confusion_matrix(all_labels, all_preds)\n",
    "    num_classes = cm.shape[0]\n",
    "    \n",
    "    # Normalize confusion matrix to percentages\n",
    "    cm_normalized = cm.astype(np.float32) / cm.sum(axis=1, keepdims=True) * 100\n",
    "\n",
    "    # If class_names isn't given, use numeric class indices\n",
    "    if class_names is None:\n",
    "        class_names = [str(i) for i in range(num_classes)]\n",
    "\n",
    "    # Plotting\n",
    "    plt.figure(figsize=(max(10, num_classes * 0.8), max(8, num_classes * 0.6)))  # Dynamic size\n",
    "    im = plt.imshow(cm_normalized, interpolation='nearest', cmap='Blues')\n",
    "    plt.title(title, fontsize=14)\n",
    "    plt.colorbar(im, label=\"Percentage\")  # Add colorbar with label\n",
    "\n",
    "    # Create tick marks\n",
    "    tick_marks = np.arange(num_classes)\n",
    "    plt.xticks(tick_marks, class_names, rotation=45, ha=\"right\", va=\"top\", fontsize=max(8, 12 - num_classes // 5))\n",
    "    plt.yticks(tick_marks, class_names, fontsize=max(8, 12 - num_classes // 5))\n",
    "\n",
    "    # Annotate the matrix cells with percentage values\n",
    "    thresh = cm_normalized.max() / 2.0\n",
    "    for i in range(num_classes):\n",
    "        for j in range(num_classes):\n",
    "            plt.text(\n",
    "                j, i, f\"{cm_normalized[i, j]:.1f}\",\n",
    "                ha=\"center\", va=\"center\",\n",
    "                color=\"white\" if cm_normalized[i, j] > thresh else \"black\",\n",
    "                fontsize=max(8, 12 - num_classes // 5)\n",
    "            )\n",
    "\n",
    "    plt.ylabel(\"True Label\", fontsize=12, labelpad=10)\n",
    "    plt.xlabel(\"Predicted Label\", fontsize=12, labelpad=10)\n",
    "    \n",
    "    # Adjust layout with extra bottom margin for rotated labels\n",
    "    plt.tight_layout()\n",
    "    plt.subplots_adjust(bottom=0.2 + num_classes * 0.005)  # Dynamic bottom margin\n",
    "    \n",
    "    plt.show()"
   ]
  },
  {
   "cell_type": "markdown",
   "metadata": {},
   "source": [
    "#### 3.2 Model"
   ]
  },
  {
   "cell_type": "markdown",
   "metadata": {},
   "source": [
    "##### BTNK1"
   ]
  },
  {
   "cell_type": "code",
   "execution_count": null,
   "metadata": {},
   "outputs": [],
   "source": [
    "class BTNK1(nn.Module):\n",
    "    def __init__(self, C, W, C1, S):\n",
    "        super(BTNK1, self).__init__()\n",
    "\n",
    "        self.conv1 = nn.Conv2d(in_channels=C, out_channels=C1, kernel_size=(1,1),stride=S)\n",
    "        self.bn1 = nn.BatchNorm2d(C1)\n",
    "\n",
    "        self.conv2 = nn.Conv2d(in_channels=C1, out_channels=C1, kernel_size=(3,3),stride=1, padding=1)\n",
    "        self.bn2 = nn.BatchNorm2d(C1)\n",
    "\n",
    "        self.conv3 = nn.Conv2d(in_channels=C1, out_channels=C1*4, kernel_size=(1,1), stride=1)\n",
    "        self.bn3 = nn.BatchNorm2d(C1*4)\n",
    "\n",
    "        self.conv4 = nn.Conv2d(in_channels=C, out_channels=C1*4, kernel_size=(1,1), stride=S)\n",
    "        self.bn4 = nn.BatchNorm2d(C1*4)\n",
    "\n",
    "        self.relu = nn.ReLU()\n",
    "\n",
    "    \n",
    "    def forward(self, x):\n",
    "       \n",
    "\n",
    "        # Right\n",
    "        shortcut = self.conv4(x)\n",
    "        shortcut = self.bn4(shortcut)\n",
    "\n",
    "        # Left\n",
    "        x = self.conv1(x)\n",
    "        x = self.bn1(x)\n",
    "        x = self.relu(x)\n",
    "\n",
    "\n",
    "        x = self.conv2(x)\n",
    "        x = self.bn2(x)\n",
    "        x = self.relu(x)\n",
    "\n",
    "\n",
    "        x = self.conv3(x)\n",
    "        x = self.bn3(x)\n",
    "\n",
    "\n",
    "        x += shortcut\n",
    "\n",
    "        x = self.relu(x)\n",
    "\n",
    "        return x"
   ]
  },
  {
   "cell_type": "markdown",
   "metadata": {},
   "source": [
    "##### BTNK2"
   ]
  },
  {
   "cell_type": "code",
   "execution_count": null,
   "metadata": {},
   "outputs": [],
   "source": [
    "class BTNK2(nn.Module):\n",
    "    def __init__(self, C, W):\n",
    "        super(BTNK2, self).__init__()\n",
    "\n",
    "        self.conv1 = nn.Conv2d(in_channels=C, out_channels=int(C/4), kernel_size=1, stride=1)\n",
    "        self.bn1 = nn.BatchNorm2d(int(C/4))\n",
    "\n",
    "        self.conv2 = nn.Conv2d(in_channels=int(C/4), out_channels=int(C/4), kernel_size=3, stride=1, padding=1)\n",
    "        self.bn2 = nn.BatchNorm2d(int(C/4))\n",
    "\n",
    "        self.conv3 = nn.Conv2d(in_channels=int(C/4), out_channels=C, kernel_size=1, stride=1)\n",
    "        self.bn3 = nn.BatchNorm2d(C)\n",
    "\n",
    "        self.relu = nn.ReLU()\n",
    "\n",
    "    \n",
    "    def forward(self, x):\n",
    "       \n",
    "\n",
    "        shortcut = x\n",
    "\n",
    "        x = self.conv1(x)\n",
    "        x = self.bn1(x)\n",
    "        x = self.relu(x)\n",
    "\n",
    "\n",
    "        x = self.conv2(x)\n",
    "        x = self.bn2(x)\n",
    "        x = self.relu(x)\n",
    "\n",
    "\n",
    "\n",
    "        x = self.conv3(x)\n",
    "        x = self.bn3(x)\n",
    "\n",
    "\n",
    "        x += shortcut\n",
    "\n",
    "        x = self.relu(x)\n",
    "\n",
    "        return x"
   ]
  },
  {
   "cell_type": "markdown",
   "metadata": {},
   "source": [
    "##### MHSA"
   ]
  },
  {
   "cell_type": "code",
   "execution_count": null,
   "metadata": {},
   "outputs": [],
   "source": [
    "class MHSA2D(nn.Module):\n",
    "    \"\"\"\n",
    "    Minimal 2D multi-head self-attention.\n",
    "    \"\"\"\n",
    "    def __init__(self, embed_dim, num_heads=4, dropout=0.0):\n",
    "        super().__init__()\n",
    "        self.mha = nn.MultiheadAttention(embed_dim, num_heads, dropout=dropout, batch_first=True)\n",
    "        self.ln = nn.LayerNorm(embed_dim)\n",
    "        self.dropout = nn.Dropout(dropout)\n",
    "\n",
    "    def forward(self, x):\n",
    "        # x shape: (N, C, H, W)\n",
    "        N, C, H, W = x.size()\n",
    "\n",
    "        # Flatten spatial dimensions -> (N, H*W, C)\n",
    "        x_flat = x.permute(0, 2, 3, 1).reshape(N, H*W, C)\n",
    "\n",
    "        attn_out, _ = self.mha(x_flat, x_flat, x_flat)  # self-attention\n",
    "        out = x_flat + self.dropout(attn_out)           # residual\n",
    "        out = self.ln(out)\n",
    "\n",
    "        # Unflatten back -> (N, C, H, W)\n",
    "        out = out.view(N, H, W, C).permute(0, 3, 1, 2)\n",
    "        return out\n"
   ]
  },
  {
   "cell_type": "markdown",
   "metadata": {},
   "source": [
    "##### BTNK1*"
   ]
  },
  {
   "cell_type": "code",
   "execution_count": null,
   "metadata": {},
   "outputs": [],
   "source": [
    "class BTNK1Star(nn.Module):\n",
    "    \"\"\"\n",
    "    BTNK1*(C, W, C1, S) block:\n",
    "      - 1x1 conv (stride=S) + BN + ReLU\n",
    "      - MHSA (replaces 3x3 conv)\n",
    "      - 1x1 conv (expand by 4) + BN\n",
    "      - Skip connection with optional downsample\n",
    "      - ReLU\n",
    "\n",
    "    Args:\n",
    "      C  : input channels\n",
    "      W  : input spatial size (width/height) for reference\n",
    "      C1 : mid-channels (bottleneck)\n",
    "      S  : stride\n",
    "    \"\"\"\n",
    "    def __init__(self, C, W, C1, S=2, num_heads=4, dropout=0.0):\n",
    "        super().__init__()\n",
    "        \n",
    "        self.C = C\n",
    "        self.W = W  # Not strictly needed for the layers, but we store it to match the diagram\n",
    "        self.C1 = C1\n",
    "        self.S = S\n",
    "        \n",
    "        self.out_channels = C1 * 4  # typical ResNet bottleneck expansion ratio\n",
    "\n",
    "        # 1) 1×1 \"reduce\" conv\n",
    "        self.conv1 = nn.Conv2d(C, C1, kernel_size=1, stride=S, bias=False)\n",
    "        self.bn1   = nn.BatchNorm2d(C1)\n",
    "        self.relu  = nn.ReLU(inplace=True)\n",
    "        \n",
    "        # 2) Multi-head self-attention in place of the 3×3 conv\n",
    "        self.mhsa  = MHSA2D(embed_dim=C1, num_heads=num_heads, dropout=dropout)\n",
    "        \n",
    "        # 3) 1×1 \"expand\" conv\n",
    "        self.conv2 = nn.Conv2d(C1, self.out_channels, kernel_size=1, stride=1, bias=False)\n",
    "        self.bn2   = nn.BatchNorm2d(self.out_channels)\n",
    "        \n",
    "        # Downsample if needed\n",
    "        self.downsample = None\n",
    "        if (S != 1) or (C != self.out_channels):\n",
    "            self.downsample = nn.Sequential(\n",
    "                nn.Conv2d(C, self.out_channels, kernel_size=1, stride=S, bias=False),\n",
    "                nn.BatchNorm2d(self.out_channels),\n",
    "            )\n",
    "\n",
    "    def forward(self, x):\n",
    "        identity = x\n",
    "        \n",
    "        # 1) 1×1 reduce\n",
    "        out = self.conv1(x)\n",
    "        out = self.bn1(out)\n",
    "        out = self.relu(out)\n",
    "        \n",
    "        # 2) MHSA\n",
    "        out = self.mhsa(out)\n",
    "        \n",
    "        # 3) 1×1 expand\n",
    "        out = self.conv2(out)\n",
    "        out = self.bn2(out)\n",
    "        \n",
    "        # Skip connection\n",
    "        if self.downsample is not None:\n",
    "            identity = self.downsample(identity)\n",
    "        \n",
    "        out += identity\n",
    "        out = self.relu(out)\n",
    "        \n",
    "        return out\n"
   ]
  },
  {
   "cell_type": "markdown",
   "metadata": {},
   "source": [
    "##### BTNK2*"
   ]
  },
  {
   "cell_type": "code",
   "execution_count": null,
   "metadata": {},
   "outputs": [],
   "source": [
    "class BTNK2Star(nn.Module):\n",
    "    \"\"\"\n",
    "    BTNK2*(C, W):\n",
    "      - Input shape: (N, C, W, W)\n",
    "      - 1x1 conv => C/4, BN, ReLU\n",
    "      - MHSA (replaces 3x3 conv)\n",
    "      - 1x1 conv => C, BN\n",
    "      - Residual + ReLU => Output shape: (N, C, W, W)\n",
    "    \"\"\"\n",
    "    def __init__(self, C, W, num_heads=4, dropout=0.0):\n",
    "        super().__init__()\n",
    "        self.C = C\n",
    "        self.W = W\n",
    "        \n",
    "        # We'll reduce to C//4 mid-channels\n",
    "        # (Ensure C is divisible by 4 or handle rounding.)\n",
    "        mid_channels = C // 4\n",
    "\n",
    "        # 1) 1x1 conv to reduce channels\n",
    "        self.conv1 = nn.Conv2d(C, mid_channels, kernel_size=1, stride=1, bias=False)\n",
    "        self.bn1   = nn.BatchNorm2d(mid_channels)\n",
    "        self.relu  = nn.ReLU(inplace=True)\n",
    "        \n",
    "        # 2) MHSA in place of the usual 3x3\n",
    "        self.mhsa  = MHSA2D(embed_dim=mid_channels, num_heads=num_heads, dropout=dropout)\n",
    "        \n",
    "        # 3) 1x1 conv to expand back to C\n",
    "        self.conv2 = nn.Conv2d(mid_channels, C, kernel_size=1, stride=1, bias=False)\n",
    "        self.bn2   = nn.BatchNorm2d(C)\n",
    "\n",
    "    def forward(self, x):\n",
    "        identity = x\n",
    "        \n",
    "        # 1) 1x1 reduce\n",
    "        out = self.conv1(x)\n",
    "        out = self.bn1(out)\n",
    "        out = self.relu(out)\n",
    "        \n",
    "        # 2) MHSA\n",
    "        out = self.mhsa(out)\n",
    "        \n",
    "        # 3) 1x1 expand\n",
    "        out = self.conv2(out)\n",
    "        out = self.bn2(out)\n",
    "        \n",
    "        # Residual\n",
    "        out += identity\n",
    "        out = self.relu(out)\n",
    "        \n",
    "        return out\n"
   ]
  },
  {
   "cell_type": "markdown",
   "metadata": {},
   "source": [
    "##### CNN Feature Extractor"
   ]
  },
  {
   "cell_type": "code",
   "execution_count": null,
   "metadata": {},
   "outputs": [],
   "source": [
    "class CNN_feature_extractor(nn.Module):\n",
    "    def __init__(self,num_classes=6):\n",
    "        super(CNN_feature_extractor, self).__init__()\n",
    "\n",
    "        self.relu = nn.ReLU()\n",
    "\n",
    "        self.conv1 = nn.Conv2d(in_channels=1,out_channels=64,kernel_size=7,stride=2,padding=3)\n",
    "        self.bn1 = nn.BatchNorm2d(64)\n",
    "\n",
    "        self.maxPool1 = nn.MaxPool2d(kernel_size=3,stride=2,padding=1)\n",
    "\n",
    "        self.btnk1_1 = BTNK1(64, 56, 64, 1)\n",
    "        self.btnk2_1 = BTNK2(256, 56)\n",
    "        self.btnk2_2 = BTNK2(256, 56)\n",
    "\n",
    "        self.btnk1_2 = BTNK1(256, 56, 128, 2)\n",
    "        self.btnk2_3 = BTNK2(512, 28)\n",
    "        self.btnk2_4 = BTNK2(512, 28)\n",
    "        self.btnk2_5 = BTNK2(512, 28)\n",
    "\n",
    "    def forward(self, x):\n",
    "\n",
    "        x = self.conv1(x)\n",
    "        x = self.bn1(x)\n",
    "        x = self.relu(x)\n",
    "        x = self.maxPool1(x)\n",
    "\n",
    "        x = self.btnk1_1(x)\n",
    "        x = self.btnk2_1(x)\n",
    "        x = self.btnk2_2(x)\n",
    "\n",
    "        x = self.btnk1_2(x)\n",
    "        x = self.btnk2_3(x)\n",
    "        x = self.btnk2_4(x)\n",
    "        x = self.btnk2_5(x)\n",
    "        return x"
   ]
  },
  {
   "cell_type": "markdown",
   "metadata": {},
   "source": [
    "##### Transformer Learning"
   ]
  },
  {
   "cell_type": "code",
   "execution_count": null,
   "metadata": {},
   "outputs": [],
   "source": [
    "class Transformer_learning(nn.Module):\n",
    "    def __init__(self,num_classes=6):\n",
    "        super(Transformer_learning, self).__init__()\n",
    "\n",
    "        self.btnk1star_1 = BTNK1Star(512, 28, 256, S=2)\n",
    "        self.btnk2star_1 = BTNK2Star(1024,14)\n",
    "        self.btnk2star_2 = BTNK2Star(1024,14)\n",
    "        self.btnk2star_3 = BTNK2Star(1024,14)\n",
    "        self.btnk2star_4 = BTNK2Star(1024,14)\n",
    "        self.btnk2star_5 = BTNK2Star(1024,14)\n",
    "\n",
    "        self.btnk1star_2 = BTNK1Star(1024, 14, 512,S=2)\n",
    "        self.btnk2star_6 = BTNK2Star(2048,7)\n",
    "        self.btnk2star_7 = BTNK2Star(2048,7)\n",
    "\n",
    "\n",
    "    def forward(self, x):\n",
    "\n",
    "        x = self.btnk1star_1(x)\n",
    "\n",
    "        x = self.btnk2star_1(x)\n",
    "        x = self.btnk2star_2(x)\n",
    "        x = self.btnk2star_3(x)\n",
    "        x = self.btnk2star_4(x)\n",
    "        x = self.btnk2star_5(x)\n",
    "\n",
    "        x = self.btnk1star_2(x)\n",
    "        \n",
    "        x = self.btnk2star_6(x)\n",
    "        x = self.btnk2star_7(x)\n",
    "\n",
    "        return x"
   ]
  },
  {
   "cell_type": "markdown",
   "metadata": {},
   "source": [
    "##### SCR Loss + Center Loss"
   ]
  },
  {
   "cell_type": "markdown",
   "metadata": {},
   "source": [
    "##### Main Model"
   ]
  },
  {
   "cell_type": "code",
   "execution_count": null,
   "metadata": {},
   "outputs": [],
   "source": [
    "class MainModel(nn.Module):\n",
    "    def __init__(self, num_classes):\n",
    "        super(MainModel, self).__init__()\n",
    "\n",
    "        self.cnn_fe = CNN_feature_extractor(num_classes=num_classes)\n",
    "        self.tl = Transformer_learning(num_classes=num_classes)\n",
    "\n",
    "        self.globalPool = nn.AdaptiveAvgPool2d(1)\n",
    "        self.fc = nn.Linear(2048, num_classes)\n",
    "\n",
    "    def forward(self, x):\n",
    "        # 1) Convolution + feature extraction\n",
    "        x = self.cnn_fe(x)\n",
    "\n",
    "        # 2) Transformer-based layer\n",
    "        x = self.tl(x)\n",
    "\n",
    "        # 3) Global average pool => shape: (batch_size, 2048, 1, 1)\n",
    "        x = self.globalPool(x)\n",
    "\n",
    "        # 4) Flatten => shape: (batch_size, 2048)\n",
    "        features = torch.flatten(x, 1)\n",
    "\n",
    "        # 5) Final FC for classification => shape: (batch_size, num_classes)\n",
    "        logits = self.fc(features)\n",
    "\n",
    "        # Return both for SCR-loss\n",
    "        return logits, features\n"
   ]
  },
  {
   "cell_type": "markdown",
   "metadata": {},
   "source": [
    "#### Loss"
   ]
  },
  {
   "cell_type": "code",
   "execution_count": null,
   "metadata": {},
   "outputs": [],
   "source": [
    "class SCRLoss(nn.Module):\n",
    "    \"\"\"\n",
    "    Implements SCR-loss = Softmax (cross-entropy) + lambda * Center Loss.\n",
    "    \"\"\"\n",
    "    def __init__(self, num_classes, feat_dim, lambda_c=1.0):\n",
    "        \"\"\"\n",
    "        Args:\n",
    "            num_classes (int): number of classes.\n",
    "            feat_dim (int): dimensionality of the feature space.\n",
    "            lambda_c (float): weighting factor for the center loss term.\n",
    "        \"\"\"\n",
    "        super(SCRLoss, self).__init__()\n",
    "        # Trainable parameter that holds the center for each class\n",
    "        self.centers = nn.Parameter(torch.randn(num_classes, feat_dim))\n",
    "        self.lambda_c = lambda_c\n",
    "        # We use CrossEntropyLoss as the standard \"softmax loss\"\n",
    "        self.cross_entropy = nn.CrossEntropyLoss()\n",
    "\n",
    "    def forward(self, logits, features, labels):\n",
    "        \"\"\"\n",
    "        Args:\n",
    "            logits (torch.Tensor): raw class scores (pre-softmax), shape [batch_size, num_classes].\n",
    "            features (torch.Tensor): the learned features from your model, shape [batch_size, feat_dim].\n",
    "            labels (torch.LongTensor): ground truth class labels, shape [batch_size].\n",
    "\n",
    "        Returns:\n",
    "            total_loss (torch.Tensor): SCR-loss = cross_entropy + lambda_c * center_loss\n",
    "            ce_loss (torch.Tensor): the cross-entropy component\n",
    "            c_loss (torch.Tensor): the center-loss component\n",
    "        \"\"\"\n",
    "        # 1) Cross-entropy (softmax) loss\n",
    "        ce_loss = self.cross_entropy(logits, labels)\n",
    "\n",
    "        # 2) Center loss\n",
    "        # Index into the centers by label\n",
    "        batch_centers = self.centers[labels]  # shape [batch_size, feat_dim]\n",
    "        # Compute the mean squared distance\n",
    "        # (x_i - c_{y_i})^2 summed over the batch\n",
    "        diff = features - batch_centers\n",
    "        c_loss = 0.5 * diff.pow(2).sum(dim=1).mean()\n",
    "\n",
    "        total_loss = ce_loss + self.lambda_c * c_loss\n",
    "        return total_loss, ce_loss, c_loss\n"
   ]
  },
  {
   "cell_type": "markdown",
   "metadata": {},
   "source": [
    "##### Model Summary"
   ]
  },
  {
   "cell_type": "code",
   "execution_count": null,
   "metadata": {},
   "outputs": [],
   "source": [
    "model = MainModel(6)\n",
    "summary(model , input_size=(1, 1, 224, 224))"
   ]
  },
  {
   "cell_type": "markdown",
   "metadata": {},
   "source": [
    "#### 3.3 Actual Training"
   ]
  },
  {
   "cell_type": "code",
   "execution_count": null,
   "metadata": {},
   "outputs": [],
   "source": [
    "# Prepare DataLoaders\n",
    "train_loader = prepare_dataloader(\n",
    "    X_train,\n",
    "    y_train,\n",
    "    batch_size=32,\n",
    "    shuffle=True,\n",
    ")"
   ]
  },
  {
   "cell_type": "code",
   "execution_count": null,
   "metadata": {},
   "outputs": [],
   "source": [
    "num_classes = len(np.unique(y_encoded))\n",
    "\n",
    "model = MainModel(num_classes=num_classes).to(device)\n",
    "\n",
    "# Define loss function and optimizer\n",
    "lambda_c = 0.3\n",
    "scr_loss_fn = SCRLoss(num_classes=num_classes, feat_dim=2048, lambda_c=lambda_c).to(device)"
   ]
  },
  {
   "cell_type": "code",
   "execution_count": null,
   "metadata": {},
   "outputs": [],
   "source": [
    "learning_rate = 1e-3  # Typical for Adam\n",
    "center_lr = 0.05  # Smaller LR for center loss updates\n",
    "\n",
    "# Optimizer for the model\n",
    "model_optimizer = torch.optim.Adam(model.parameters(), lr=learning_rate)\n",
    "\n",
    "# Optimizer for the center-loss parameters\n",
    "center_optimizer = torch.optim.SGD(scr_loss_fn.parameters(), lr=center_lr)\n"
   ]
  },
  {
   "cell_type": "code",
   "execution_count": null,
   "metadata": {},
   "outputs": [],
   "source": [
    "# Train the model\n",
    "epoch_count = 1\n",
    "loss_history = train_model_separate_optim(\n",
    "    model, \n",
    "    train_loader, \n",
    "    scr_loss_fn, \n",
    "    model_optimizer, \n",
    "    center_optimizer,  \n",
    "    device, \n",
    "    epochs=epoch_count, \n",
    "    patience=50, \n",
    "    min_delta=0.01\n",
    ")\n"
   ]
  },
  {
   "cell_type": "code",
   "execution_count": null,
   "metadata": {},
   "outputs": [],
   "source": [
    "plot_loss_curve(loss_history)"
   ]
  },
  {
   "cell_type": "code",
   "execution_count": null,
   "metadata": {},
   "outputs": [],
   "source": [
    "display_confusion_matrix(model, train_loader, device)"
   ]
  },
  {
   "cell_type": "markdown",
   "metadata": {},
   "source": [
    "#### 3.4 Save Model to File"
   ]
  },
  {
   "cell_type": "code",
   "execution_count": null,
   "metadata": {},
   "outputs": [],
   "source": [
    "mds = modulation_types[0]\n",
    "if len(modulation_types) == 3:\n",
    "    mds = \"ALL\"\n",
    "\n",
    "model_file_name = f\"RM_Net_model_e{epoch_count}_lr{learning_rate}_snr_{snr}_mds_{mds}\""
   ]
  },
  {
   "cell_type": "code",
   "execution_count": null,
   "metadata": {},
   "outputs": [],
   "source": [
    "torch.save(model, model_file_name+\".pth\")"
   ]
  },
  {
   "cell_type": "markdown",
   "metadata": {},
   "source": [
    "### 4 Testing"
   ]
  },
  {
   "cell_type": "code",
   "execution_count": null,
   "metadata": {},
   "outputs": [],
   "source": [
    "def evaluate_model(model, test_loader, label_encoder, device):\n",
    "    \"\"\"\n",
    "    Evaluates the trained model and displays accuracy, confusion matrix, and F1-score.\n",
    "    \n",
    "    Args:\n",
    "        model: Trained PyTorch model.\n",
    "        test_loader: DataLoader for test set.\n",
    "        label_encoder: Label encoder to decode class names.\n",
    "        device: 'cuda' or 'cpu' where evaluation happens.\n",
    "    \"\"\"\n",
    "    model.to(device)  # Ensure model is on correct device\n",
    "    model.eval()  # Set to evaluation mode\n",
    "\n",
    "    y_true = []\n",
    "    y_pred = []\n",
    "    correct = 0\n",
    "    total = 0\n",
    "\n",
    "    with torch.no_grad():\n",
    "        for inputs, labels in test_loader:\n",
    "            inputs = inputs.to(device)\n",
    "            labels = labels.to(device)\n",
    "\n",
    "            # Model returns (logits, features) → Extract logits\n",
    "            logits, _ = model(inputs)\n",
    "            \n",
    "            # Get predicted class (argmax over logits)\n",
    "            _, predicted = torch.max(logits, 1)\n",
    "            \n",
    "            correct += (predicted == labels).sum().item()\n",
    "            total += labels.size(0)\n",
    "\n",
    "            y_true.extend(labels.cpu().tolist())  # Move to CPU for metrics\n",
    "            y_pred.extend(predicted.cpu().tolist())\n",
    "\n",
    "    # Compute Accuracy\n",
    "    accuracy = 100 * correct / total\n",
    "    print(f\"Accuracy: {accuracy:.2f}%\")\n",
    "\n",
    "    # Compute & Display Confusion Matrix\n",
    "    class_names = label_encoder.classes_  # Decode label names\n",
    "    cm = confusion_matrix(y_true, y_pred)\n",
    "    # Normalize confusion matrix to percentages\n",
    "    cm_normalized = cm.astype(np.float32) / cm.sum(axis=1, keepdims=True) * 100\n",
    "    num_classes = len(class_names)\n",
    "\n",
    "    # Plot confusion matrix\n",
    "    fig, ax = plt.subplots(figsize=(max(10, num_classes * 0.8), max(8, num_classes * 0.6)))  # Dynamic size\n",
    "    disp = ConfusionMatrixDisplay(confusion_matrix=cm_normalized, display_labels=class_names)\n",
    "    disp.plot(cmap=\"Blues\", values_format=\".1f\", ax=ax)  # Use 1 decimal place for percentages\n",
    "\n",
    "    # Adjust x-axis label alignment and font sizes\n",
    "    ax.set_xticklabels(class_names, rotation=45, ha=\"right\", va=\"top\", fontsize=max(8, 12 - num_classes // 5))\n",
    "    ax.set_yticklabels(class_names, rotation=0, fontsize=max(8, 12 - num_classes // 5))\n",
    "    ax.set_xlabel(\"Predicted Label\", fontsize=12, labelpad=10)\n",
    "    ax.set_ylabel(\"True Label\", fontsize=12, labelpad=10)\n",
    "    ax.set_title(\"Confusion Matrix (Percentage)\", fontsize=14)\n",
    "\n",
    "    # Adjust layout with extra bottom margin for rotated labels\n",
    "    plt.tight_layout()\n",
    "    plt.subplots_adjust(bottom=0.2 + num_classes * 0.005)  # Dynamic bottom margin\n",
    "\n",
    "    plt.show()\n",
    "\n",
    "    # Print Classification Report (Precision, Recall, F1-score)\n",
    "    print(\"\\nClassification Report:\")\n",
    "    print(classification_report(y_true, y_pred, target_names=class_names))"
   ]
  },
  {
   "cell_type": "code",
   "execution_count": null,
   "metadata": {},
   "outputs": [],
   "source": [
    "# Prepare DataLoaders\n",
    "test_loader = prepare_dataloader(\n",
    "    X_test,\n",
    "    y_test,\n",
    "    batch_size=32,\n",
    ")"
   ]
  },
  {
   "cell_type": "code",
   "execution_count": null,
   "metadata": {},
   "outputs": [],
   "source": [
    "# Evaluate the model\n",
    "evaluate_model(model, test_loader, label_encoder,device)"
   ]
  }
 ],
 "metadata": {
  "kernelspec": {
   "display_name": "Python 3",
   "language": "python",
   "name": "python3"
  },
  "language_info": {
   "codemirror_mode": {
    "name": "ipython",
    "version": 3
   },
   "file_extension": ".py",
   "mimetype": "text/x-python",
   "name": "python",
   "nbconvert_exporter": "python",
   "pygments_lexer": "ipython3",
   "version": "3.12.10"
  }
 },
 "nbformat": 4,
 "nbformat_minor": 2
}
