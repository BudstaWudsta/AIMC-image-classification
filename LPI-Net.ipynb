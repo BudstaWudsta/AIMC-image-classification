{
 "cells": [
  {
   "cell_type": "markdown",
   "metadata": {},
   "source": [
    "# Accurate LPI Radar Waveform Recognition With CWD-TFA for Deep Convolutional Network\n"
   ]
  },
  {
   "cell_type": "markdown",
   "metadata": {},
   "source": [
    "### 1 Setup"
   ]
  },
  {
   "cell_type": "markdown",
   "metadata": {},
   "source": [
    "#### 1.1 Imports"
   ]
  },
  {
   "cell_type": "code",
   "execution_count": null,
   "metadata": {},
   "outputs": [],
   "source": [
    "import torch\n",
    "import torch.nn as nn\n",
    "from torchinfo import summary\n",
    "from torch.utils.data import DataLoader, TensorDataset\n",
    "from sklearn.model_selection import train_test_split\n",
    "import h5py\n",
    "import numpy as np\n",
    "from sklearn.preprocessing import LabelEncoder\n",
    "import torch.optim as optim\n",
    "import matplotlib.pyplot as plt\n",
    "from sklearn.metrics import confusion_matrix\n",
    "from tqdm import tqdm\n",
    "from sklearn.metrics import (\n",
    "    confusion_matrix,\n",
    "    classification_report,\n",
    ")\n",
    "import cv2\n",
    "import seaborn as sns\n",
    "import os\n",
    "import numpy as np\n",
    "from scipy.fft import fft, ifft, fftshift"
   ]
  },
  {
   "cell_type": "markdown",
   "metadata": {},
   "source": [
    "#### 1.2 Device Selection"
   ]
  },
  {
   "cell_type": "code",
   "execution_count": null,
   "metadata": {},
   "outputs": [],
   "source": [
    "device = torch.device(\"cuda\" if torch.cuda.is_available() else \"cpu\")\n",
    "print(\"Using device:\", device)"
   ]
  },
  {
   "cell_type": "markdown",
   "metadata": {},
   "source": [
    "#### 1.3 Data Input"
   ]
  },
  {
   "cell_type": "code",
   "execution_count": null,
   "metadata": {},
   "outputs": [],
   "source": [
    "def load_spectrogram_h5s(root_folder, mod_types):\n",
    "    \"\"\"\n",
    "    Loads all .h5 spectrogram files from the specified modulation types\n",
    "    and returns a dict structured as:\n",
    "      {\n",
    "          \"lfm_up\": {\n",
    "              0: <np.ndarray>,\n",
    "              1: <np.ndarray>,\n",
    "              ...\n",
    "          },\n",
    "          ...\n",
    "      }\n",
    "\n",
    "    Parameters:\n",
    "    - root_folder (str): Path to the top-level \"spectrograms\" directory.\n",
    "    - mod_types (list): List of modulation families to include, e.g. ['FM', 'PM']\n",
    "\n",
    "    Returns:\n",
    "    - Dictionary containing all spectrograms, indexed by modulation name and integer index.\n",
    "    \"\"\"\n",
    "    spectrogram_dict = {}\n",
    "\n",
    "    for mod_type in mod_types:\n",
    "        mod_path = os.path.join(root_folder, mod_type)\n",
    "        if not os.path.exists(mod_path):\n",
    "            print(f\"⚠️ Warning: {mod_path} does not exist. Skipping.\")\n",
    "            continue\n",
    "\n",
    "        print(f\"📂 Loading from {mod_type}...\")\n",
    "        files = [f for f in os.listdir(mod_path) if f.endswith(\".h5\")]\n",
    "\n",
    "        for file in tqdm(files, desc=f\"   {mod_type}\", unit=\"file\"):\n",
    "            mod_name = file[:-3]  # Strip '.h5'\n",
    "            file_path = os.path.join(mod_path, file)\n",
    "            spectrogram_dict[mod_name] = {}\n",
    "\n",
    "            try:\n",
    "                with h5py.File(file_path, \"r\") as h5f:\n",
    "                    for key in h5f.keys():\n",
    "                        idx = int(key)  # Convert string index to int\n",
    "                        spectrogram_dict[mod_name][idx] = np.array(h5f[key])\n",
    "            except Exception as e:\n",
    "                print(f\"❌ Failed to load {file_path}: {e}\")\n",
    "\n",
    "    return spectrogram_dict\n"
   ]
  },
  {
   "cell_type": "code",
   "execution_count": null,
   "metadata": {},
   "outputs": [],
   "source": [
    "# Ensure the main directory exists\n",
    "# Add in path to where the spectrograms are stored\n",
    "data_path = \"C:/Users/scocks/Documents/hehehehehehhe/images/\"\n",
    "os.makedirs(data_path, exist_ok=True)\n",
    "\n",
    "img_res = 224\n",
    "img_count = 1000\n",
    "snr = 0\n",
    "\n",
    "\n",
    "folder_name = f\"General_Images_res_{img_res}_sz_{img_count}_SNR_{snr}\"\n",
    "folder_path = data_path+folder_name\n",
    "\n",
    "modulation_types = [\n",
    "    \"FM\",\n",
    "    \"PM\",\n",
    "    \"HYBRID\",\n",
    "]\n",
    "\n",
    "data = load_spectrogram_h5s(folder_path, modulation_types)"
   ]
  },
  {
   "cell_type": "code",
   "execution_count": null,
   "metadata": {},
   "outputs": [],
   "source": [
    "def convert_spectrogram_dict_to_xy(data_dict):\n",
    "    \"\"\"\n",
    "    Converts a dictionary of spectrograms into (X, y) format for ML.\n",
    "\n",
    "    Parameters:\n",
    "    - data_dict: Output from load_spectrogram_h5s(), e.g.\n",
    "        {\n",
    "            \"lfm_up\": {0: np.array, 1: np.array, ...},\n",
    "            \"bpsk\":   {0: np.array, ...},\n",
    "            ...\n",
    "        }\n",
    "\n",
    "    Returns:\n",
    "    - X: np.ndarray of shape (N, H, W, C)\n",
    "    - y: np.ndarray of shape (N,) with string labels like 'lfm_up'\n",
    "    \"\"\"\n",
    "    X_list = []\n",
    "    y_list = []\n",
    "\n",
    "    for label, spectros in data_dict.items():\n",
    "        for idx in sorted(spectros.keys()):\n",
    "            X_list.append(spectros[idx])\n",
    "            y_list.append(label)\n",
    "\n",
    "    X = np.array(X_list)\n",
    "    y = np.array(y_list)\n",
    "\n",
    "    return X, y\n"
   ]
  },
  {
   "cell_type": "code",
   "execution_count": null,
   "metadata": {},
   "outputs": [],
   "source": [
    "X, y = convert_spectrogram_dict_to_xy(data)"
   ]
  },
  {
   "cell_type": "code",
   "execution_count": null,
   "metadata": {},
   "outputs": [],
   "source": [
    "print(X.shape)\n",
    "print(y.shape)"
   ]
  },
  {
   "cell_type": "markdown",
   "metadata": {},
   "source": [
    "#### 1.4 Label Encoder"
   ]
  },
  {
   "cell_type": "code",
   "execution_count": null,
   "metadata": {},
   "outputs": [],
   "source": [
    "label_encoder = LabelEncoder()"
   ]
  },
  {
   "cell_type": "markdown",
   "metadata": {},
   "source": [
    "#### 1.5 Data Loader"
   ]
  },
  {
   "cell_type": "code",
   "execution_count": null,
   "metadata": {},
   "outputs": [],
   "source": [
    "def prepare_dataloader(X, y, batch_size=32, shuffle=False, num_workers=2, device=\"cpu\"):\n",
    "    # Convert NumPy arrays to PyTorch tensors\n",
    "    if isinstance(X, np.ndarray):\n",
    "        X = torch.tensor(X, dtype=torch.float32)\n",
    "    elif not isinstance(X, torch.Tensor):\n",
    "        raise TypeError(\"Input X must be a NumPy array or PyTorch tensor\")\n",
    "\n",
    "    if isinstance(y, np.ndarray):\n",
    "        y = torch.tensor(y, dtype=torch.long)\n",
    "    elif not isinstance(y, torch.Tensor):\n",
    "        raise TypeError(\"Labels y must be a NumPy array or PyTorch tensor\")\n",
    "\n",
    "    # Ensure X has four dimensions (N, C, H, W)\n",
    "    if X.ndim == 3:  # If (N, H, W), add a channel dimension\n",
    "        X = X.unsqueeze(1)  # (N, 1, H, W)\n",
    "    elif X.ndim == 4 and X.shape[-1] in [1, 3]:  # (N, H, W, C) case\n",
    "        X = X.permute(0, 3, 1, 2)  # Convert to (N, C, H, W)\n",
    "\n",
    "    # Move data to the correct device\n",
    "    X, y = X.to(device), y.to(device)\n",
    "\n",
    "    # Create dataset and dataloader\n",
    "    dataset = TensorDataset(X, y)\n",
    "    loader = DataLoader(\n",
    "        dataset,\n",
    "        batch_size=batch_size,\n",
    "        shuffle=shuffle,\n",
    "        num_workers=num_workers,\n",
    "        pin_memory=(device == \"cuda\"),\n",
    "    )\n",
    "\n",
    "    return loader"
   ]
  },
  {
   "cell_type": "markdown",
   "metadata": {},
   "source": [
    "### 2 Pre-processing"
   ]
  },
  {
   "cell_type": "code",
   "execution_count": null,
   "metadata": {},
   "outputs": [],
   "source": [
    "def pre_processing(images):\n",
    "    # Resize images to 128x128 using bicubic interpolation\n",
    "    resized_images = np.array(\n",
    "        [cv2.resize(img, (64, 64), interpolation=cv2.INTER_CUBIC) for img in images]\n",
    "    )\n",
    "\n",
    "    # Convert to grayscale using luminance formula\n",
    "    # Assumes images are in RGB format\n",
    "    grayscale_images = np.dot(resized_images[...,:3], [0.2989, 0.5870, 0.1140])\n",
    "\n",
    "    return grayscale_images\n"
   ]
  },
  {
   "cell_type": "code",
   "execution_count": null,
   "metadata": {},
   "outputs": [],
   "source": [
    "y_encoded = label_encoder.fit_transform(y)"
   ]
  },
  {
   "cell_type": "code",
   "execution_count": null,
   "metadata": {},
   "outputs": [],
   "source": [
    "X_pre_processed = pre_processing(X)"
   ]
  },
  {
   "cell_type": "code",
   "execution_count": null,
   "metadata": {},
   "outputs": [],
   "source": [
    "X_train, X_test, y_train, y_test = train_test_split(\n",
    "    X_pre_processed, y_encoded, test_size=0.2, stratify=y_encoded, random_state=42\n",
    ")"
   ]
  },
  {
   "cell_type": "code",
   "execution_count": null,
   "metadata": {},
   "outputs": [],
   "source": [
    "unique_train, counts_train = np.unique(y_train, return_counts=True)\n",
    "unique_test, counts_test = np.unique(y_test, return_counts=True)\n",
    "\n",
    "print(\"Class Distribution in Training Set:\")\n",
    "for label, count in zip(unique_train, counts_train):\n",
    "    print(f\"Class {label}: {count} samples\")\n",
    "\n",
    "print(\"\\nClass Distribution in Test Set:\")\n",
    "for label, count in zip(unique_test, counts_test):\n",
    "    print(f\"Class {label}: {count} samples\")"
   ]
  },
  {
   "cell_type": "markdown",
   "metadata": {},
   "source": [
    "#### 2.1 Pre-processing Display"
   ]
  },
  {
   "cell_type": "code",
   "execution_count": null,
   "metadata": {},
   "outputs": [],
   "source": [
    "# selected_display = np.random.randint(len(X_train))\n",
    "selected_display = 0"
   ]
  },
  {
   "cell_type": "code",
   "execution_count": null,
   "metadata": {},
   "outputs": [],
   "source": [
    "print(\"Train Images shape:\", X_pre_processed.shape)\n",
    "print(\"Train Metadata shape:\", y_encoded.shape)\n",
    "print(f\"{y[selected_display]} = {y_encoded[selected_display]}\")"
   ]
  },
  {
   "cell_type": "code",
   "execution_count": null,
   "metadata": {},
   "outputs": [],
   "source": [
    "plt.imshow(X[selected_display])\n",
    "plt.show()"
   ]
  },
  {
   "cell_type": "code",
   "execution_count": null,
   "metadata": {},
   "outputs": [],
   "source": [
    "plt.imshow(X_pre_processed[selected_display], cmap=\"grey\")\n",
    "plt.show()\n",
    "print(X_pre_processed[selected_display].shape)\n"
   ]
  },
  {
   "cell_type": "markdown",
   "metadata": {},
   "source": [
    "### 3 Training"
   ]
  },
  {
   "cell_type": "markdown",
   "metadata": {},
   "source": [
    "#### 3.1 Training Setup"
   ]
  },
  {
   "cell_type": "code",
   "execution_count": null,
   "metadata": {},
   "outputs": [],
   "source": [
    "def train_model(\n",
    "    model,\n",
    "    train_loader,\n",
    "    device,\n",
    "    criterion,\n",
    "    optimizer,\n",
    "    scheduler=None,  # Added scheduler as an optional argument\n",
    "    epochs=10,\n",
    "    patience=3,\n",
    "    min_delta=0.0,\n",
    "):\n",
    "    model.to(device)\n",
    "    model.train()\n",
    "\n",
    "    loss_history = []\n",
    "    best_loss = float(\"inf\")\n",
    "    patience_counter = 0\n",
    "\n",
    "    for epoch in range(epochs):\n",
    "        total_loss = 0.0\n",
    "\n",
    "        # Progress bar for each epoch\n",
    "        progress_bar = tqdm(\n",
    "            train_loader,\n",
    "            desc=f\"Epoch {epoch+1}/{epochs}\",\n",
    "            leave=True,\n",
    "            dynamic_ncols=True,\n",
    "        )\n",
    "\n",
    "        for inputs, labels in progress_bar:\n",
    "            inputs = inputs.to(device)\n",
    "            labels = labels.to(device)\n",
    "\n",
    "            optimizer.zero_grad()\n",
    "\n",
    "            output_class = model(inputs)  # Forward pass\n",
    "\n",
    "            loss = criterion(output_class, labels)  # Compute loss\n",
    "\n",
    "            loss.backward()  # Backpropagation\n",
    "\n",
    "            torch.nn.utils.clip_grad_norm_(model.parameters(), max_norm=1.0)  # 🔥 Prevent exploding gradients\n",
    "\n",
    "            optimizer.step()  # Apply gradients\n",
    "\n",
    "            total_loss += loss.item()\n",
    "\n",
    "            # Live loss display\n",
    "            progress_bar.set_postfix({\"Loss\": f\"{loss.item():.4f}\"})\n",
    "\n",
    "        # Average loss for the epoch\n",
    "        avg_loss = total_loss / len(train_loader)\n",
    "        loss_history.append(avg_loss)\n",
    "        print(f\"Epoch {epoch+1} average loss: {avg_loss:.4f}\")\n",
    "\n",
    "        # Step the scheduler if provided\n",
    "        if scheduler:\n",
    "            scheduler.step()\n",
    "\n",
    "        # Early stopping\n",
    "        if avg_loss < best_loss - min_delta:\n",
    "            best_loss = avg_loss\n",
    "            patience_counter = 0  # Reset counter if improvement is seen\n",
    "        else:\n",
    "            patience_counter += 1\n",
    "            if patience_counter >= patience:\n",
    "                print(f\"Early stopping triggered at epoch {epoch+1}\")\n",
    "                break  # Stop training early\n",
    "\n",
    "    return loss_history"
   ]
  },
  {
   "cell_type": "markdown",
   "metadata": {},
   "source": [
    "##### Loss Curve"
   ]
  },
  {
   "cell_type": "code",
   "execution_count": null,
   "metadata": {},
   "outputs": [],
   "source": [
    "def plot_loss_curve(loss_history, title=\"Training Loss Over Epochs\"):\n",
    "    epochs = len(loss_history)\n",
    "\n",
    "    plt.figure(figsize=(8, 5))\n",
    "    plt.plot(range(1, epochs + 1), loss_history, marker=\"o\", label=\"Training Loss\")\n",
    "    plt.xlabel(\"Epochs\")\n",
    "    plt.ylabel(\"Loss\")\n",
    "    plt.title(title)\n",
    "    plt.legend()\n",
    "    plt.grid()\n",
    "    plt.show()"
   ]
  },
  {
   "cell_type": "markdown",
   "metadata": {},
   "source": [
    "##### Conf Matirx"
   ]
  },
  {
   "cell_type": "code",
   "execution_count": null,
   "metadata": {},
   "outputs": [],
   "source": [
    "def display_confusion_matrix(model, dataloader, device, class_names):\n",
    "    \"\"\"\n",
    "    Generate and display a confusion matrix for a trained model.\n",
    "    \n",
    "    Parameters:\n",
    "        model (torch.nn.Module): Trained PyTorch model.\n",
    "        dataloader (torch.utils.data.DataLoader): DataLoader for evaluation dataset.\n",
    "        device (torch.device): Device to run evaluation on (CPU/GPU).\n",
    "        class_names (list): List of class names corresponding to the output classes.\n",
    "    \"\"\"\n",
    "    model.eval()  # Set model to evaluation mode\n",
    "    all_preds = []\n",
    "    all_labels = []\n",
    "\n",
    "    with torch.no_grad():\n",
    "        for inputs, labels in dataloader:\n",
    "            inputs, labels = inputs.to(device), labels.to(device)\n",
    "\n",
    "            outputs = model(inputs)\n",
    "            _, preds = torch.max(outputs, 1)  # Get class predictions\n",
    "\n",
    "            all_preds.extend(preds.cpu().numpy())\n",
    "            all_labels.extend(labels.cpu().numpy())\n",
    "\n",
    "    # Compute confusion matrix\n",
    "    cm = confusion_matrix(all_labels, all_preds)\n",
    "    cm_normalized = cm.astype(np.float32) / cm.sum(axis=1, keepdims=True)  # Normalize per row\n",
    "\n",
    "    # Plot confusion matrix\n",
    "    num_classes = len(class_names)\n",
    "    plt.figure(figsize=(max(12, num_classes * 0.8), max(10, num_classes * 0.6)))  # Dynamic size based on num classes\n",
    "    sns.heatmap(cm_normalized, annot=True, fmt=\".1f\", cmap=\"Blues\",  # Use 1 decimal place\n",
    "                xticklabels=class_names, yticklabels=class_names,\n",
    "                annot_kws={\"size\": max(8, 12 - num_classes // 5)},  # Adjust font size dynamically\n",
    "                cbar_kws={'label': 'Normalized Score'})\n",
    "    plt.xlabel(\"Predicted Labels\", fontsize=12)\n",
    "    plt.ylabel(\"True Labels\", fontsize=12)\n",
    "    plt.title(\"Confusion Matrix\", fontsize=14)\n",
    "    plt.xticks(rotation=45, ha='right')  # Rotate x labels for better readability\n",
    "    plt.yticks(rotation=0)\n",
    "    plt.tight_layout()  # Adjust layout to prevent clipping\n",
    "    plt.show()"
   ]
  },
  {
   "cell_type": "markdown",
   "metadata": {},
   "source": [
    "#### 3.2 Model"
   ]
  },
  {
   "cell_type": "code",
   "execution_count": null,
   "metadata": {},
   "outputs": [],
   "source": [
    "class module_thing(nn.Module):\n",
    "    def __init__(self):\n",
    "        super(module_thing, self).__init__()\n",
    "\n",
    "        self.pool1 = nn.MaxPool2d(kernel_size=3, stride=2)\n",
    "\n",
    "        self.conv1 = nn.Conv2d(in_channels=64, out_channels=64, kernel_size=(1,3), stride=1,padding=(0,1))\n",
    "        self.conv2 = nn.Conv2d(in_channels=64, out_channels=64, kernel_size=(3,1), stride=1,padding=(1,0))\n",
    "\n",
    "        self.conv3 = nn.Conv2d(in_channels=128, out_channels=64, kernel_size=1, stride=1)\n",
    "\n",
    "        self.conv4 = nn.Conv2d(in_channels=64, out_channels=64, kernel_size=(1,3), stride=1,padding=(0,1))\n",
    "        self.conv5 = nn.Conv2d(in_channels=64, out_channels=64, kernel_size=(3,1), stride=1,padding=(1,0))\n",
    "\n",
    "        self.conv6 = nn.Conv2d(in_channels=256, out_channels=64, kernel_size=1, stride=1)\n",
    "\n",
    "    def forward(self, x):\n",
    "\n",
    "        x = self.pool1(x)\n",
    "        x0 = x\n",
    "\n",
    "        x1 = self.conv1(x)\n",
    "        x2 = self.conv2(x)\n",
    "\n",
    "        x_cat1 = torch.cat((x1,x2), dim=1)\n",
    "        x  = self.conv3(x_cat1)\n",
    "\n",
    "        x1 = self.conv4(x)\n",
    "        x2 = self.conv5(x)\n",
    "\n",
    "        x = torch.cat((x1,x2,x_cat1), dim=1)\n",
    "\n",
    "        x = self.conv6(x)\n",
    "\n",
    "        x+=x0\n",
    "\n",
    "        return x"
   ]
  },
  {
   "cell_type": "markdown",
   "metadata": {},
   "source": [
    "##### Main Model"
   ]
  },
  {
   "cell_type": "code",
   "execution_count": null,
   "metadata": {},
   "outputs": [],
   "source": [
    "class MainModel(nn.Module):\n",
    "    def __init__(self, num_classes):\n",
    "        super(MainModel, self).__init__()\n",
    "\n",
    "        self.conv1 = nn.Conv2d(\n",
    "            in_channels=1, out_channels=64, kernel_size=7, stride=1, padding=0\n",
    "        )\n",
    "\n",
    "        self.m1 = module_thing()\n",
    "        self.m2 = module_thing()\n",
    "        self.m3 = module_thing()\n",
    "\n",
    "        self.gap = nn.AdaptiveAvgPool2d(output_size=(1,1))\n",
    "\n",
    "        self.fc1= nn.Linear(in_features=64, out_features=64)\n",
    "        self.fc2 = nn.Linear(in_features=64, out_features=num_classes)\n",
    "\n",
    "        self.dropout = nn.Dropout(p=0.5)\n",
    "\n",
    "        self.softmax = nn.Softmax(dim=1)\n",
    "\n",
    "    def forward(self, x):\n",
    "\n",
    "        x = self.conv1(x)\n",
    "\n",
    "        x = self.m1(x)\n",
    "        x = self.m2(x)\n",
    "        x = self.m3(x)\n",
    "\n",
    "        x = self.gap(x)\n",
    "        x = torch.flatten(x,1)\n",
    "\n",
    "        x = self.fc1(x)\n",
    "        x = self.dropout(x)\n",
    "        output_class = self.fc2(x)\n",
    "\n",
    "        # output_class = self.softmax(output_class)\n",
    "\n",
    "        return output_class"
   ]
  },
  {
   "cell_type": "markdown",
   "metadata": {},
   "source": [
    "##### Model Summary"
   ]
  },
  {
   "cell_type": "code",
   "execution_count": null,
   "metadata": {},
   "outputs": [],
   "source": [
    "model = MainModel(6)\n",
    "summary(model , input_size=(1, 1, 64, 64))"
   ]
  },
  {
   "cell_type": "markdown",
   "metadata": {},
   "source": [
    "#### 3.3 Actual Training"
   ]
  },
  {
   "cell_type": "code",
   "execution_count": null,
   "metadata": {},
   "outputs": [],
   "source": [
    "# Prepare DataLoaders\n",
    "train_loader = prepare_dataloader(\n",
    "    X_train,\n",
    "    y_train,\n",
    "    batch_size=32,\n",
    "    shuffle=True,\n",
    ")"
   ]
  },
  {
   "cell_type": "code",
   "execution_count": null,
   "metadata": {},
   "outputs": [],
   "source": [
    "num_classes = len(np.unique(y_encoded))\n",
    "\n",
    "model = MainModel(num_classes=num_classes).to(device)\n",
    "\n",
    "\n",
    "# Define loss function and optimizer\n",
    "criterion = nn.CrossEntropyLoss().to(device)"
   ]
  },
  {
   "cell_type": "code",
   "execution_count": null,
   "metadata": {},
   "outputs": [],
   "source": [
    "learning_rate = 1e-2\n",
    "optimizer = optim.SGD(\n",
    "    model.parameters(), lr=learning_rate, momentum=0.9, weight_decay=0.0001\n",
    ")\n",
    "scheduler = optim.lr_scheduler.StepLR(optimizer, step_size=45, gamma=0.1)\n"
   ]
  },
  {
   "cell_type": "code",
   "execution_count": null,
   "metadata": {},
   "outputs": [],
   "source": [
    "# Train the model\n",
    "epoch_count = 1\n",
    "loss_history = train_model(\n",
    "    model=model,\n",
    "    train_loader=train_loader,\n",
    "    criterion=criterion,\n",
    "    optimizer=optimizer,\n",
    "    scheduler=scheduler,\n",
    "    device=device,\n",
    "    epochs=epoch_count,\n",
    "    patience=50,\n",
    ")"
   ]
  },
  {
   "cell_type": "code",
   "execution_count": null,
   "metadata": {},
   "outputs": [],
   "source": [
    "plot_loss_curve(loss_history)"
   ]
  },
  {
   "cell_type": "code",
   "execution_count": null,
   "metadata": {},
   "outputs": [],
   "source": [
    "display_confusion_matrix(model, train_loader, device,np.unique(y_train))"
   ]
  },
  {
   "cell_type": "markdown",
   "metadata": {},
   "source": [
    "#### 3.4 Save Model to File"
   ]
  },
  {
   "cell_type": "code",
   "execution_count": null,
   "metadata": {},
   "outputs": [],
   "source": [
    "mds = modulation_types[0]\n",
    "if len(modulation_types) == 3:\n",
    "    mds = \"ALL\"\n",
    "\n",
    "model_file_name = f\"LPI_Net_model_e{epoch_count}_lr{learning_rate}_snr_{snr}_mds_{mds}\""
   ]
  },
  {
   "cell_type": "code",
   "execution_count": null,
   "metadata": {},
   "outputs": [],
   "source": [
    "torch.save(model, model_file_name + \".pth\")"
   ]
  },
  {
   "cell_type": "markdown",
   "metadata": {},
   "source": [
    "### 4 Testing"
   ]
  },
  {
   "cell_type": "code",
   "execution_count": null,
   "metadata": {},
   "outputs": [],
   "source": [
    "def evaluate_model(model, test_loader, label_encoder, device):\n",
    "    \"\"\"\n",
    "    Evaluates the trained model and displays accuracy, normalized confusion matrix, \n",
    "    F1-score, and one output image per class.\n",
    "\n",
    "    Args:\n",
    "        model: Trained PyTorch model.\n",
    "        test_loader: DataLoader for test set.\n",
    "        label_encoder: Label encoder to decode class names.\n",
    "        device: 'cuda' or 'cpu' where evaluation happens.\n",
    "    \"\"\"\n",
    "    import torch\n",
    "    import numpy as np\n",
    "    import matplotlib.pyplot as plt\n",
    "    import seaborn as sns\n",
    "    from sklearn.metrics import confusion_matrix, classification_report\n",
    "\n",
    "    model.to(device)\n",
    "    model.eval()  # Set model to evaluation mode\n",
    "\n",
    "    y_true = []\n",
    "    y_pred = []\n",
    "    correct = 0\n",
    "    total = 0\n",
    "\n",
    "    class_images = {}  # Store one output image per class\n",
    "\n",
    "    with torch.no_grad():\n",
    "        for inputs, labels in test_loader:\n",
    "            inputs = inputs.to(device)\n",
    "            labels = labels.to(device)\n",
    "\n",
    "            # Get model predictions (ONLY output_class)\n",
    "            output_class = model(inputs)  \n",
    "\n",
    "            # Get predicted class (argmax over logits)\n",
    "            preds = torch.argmax(output_class, dim=1)\n",
    "\n",
    "            correct += (preds == labels).sum().item()\n",
    "            total += labels.size(0)\n",
    "\n",
    "            y_true.extend(labels.cpu().tolist())\n",
    "            y_pred.extend(preds.cpu().tolist())\n",
    "\n",
    "            # Store one output image per class\n",
    "            for img, pred_class in zip(inputs, preds):\n",
    "                pred_class = pred_class.item()\n",
    "                if pred_class not in class_images:\n",
    "                    class_images[pred_class] = img.detach().cpu()\n",
    "\n",
    "    # Compute Accuracy\n",
    "    accuracy = 100 * correct / total\n",
    "    print(f\"✅ Accuracy: {accuracy:.2f}%\")\n",
    "\n",
    "    # Decode class names\n",
    "    class_names = label_encoder.inverse_transform(range(len(set(y_true))))\n",
    "\n",
    "    # Compute & Normalize Confusion Matrix (%)\n",
    "    cm = confusion_matrix(y_true, y_pred)\n",
    "    cm_percentage = cm.astype(float) / cm.sum(axis=1, keepdims=True) * 100  # Convert to percentages\n",
    "\n",
    "    # Plot Confusion Matrix (Percentage)\n",
    "    num_classes = len(class_names)\n",
    "    plt.figure(figsize=(max(12, num_classes * 0.8), max(10, num_classes * 0.6)))  # Dynamic size based on num classes\n",
    "    sns.heatmap(cm_percentage, annot=True, fmt=\".1f\", cmap=\"Blues\",  # Use 1 decimal place\n",
    "                xticklabels=class_names, yticklabels=class_names,\n",
    "                annot_kws={\"size\": max(8, 12 - num_classes // 5)},  # Adjust font size dynamically\n",
    "                cbar_kws={'label': 'Percentage'})\n",
    "    plt.xlabel(\"Predicted Labels\", fontsize=12)\n",
    "    plt.ylabel(\"True Labels\", fontsize=12)\n",
    "    plt.title(\"Confusion Matrix (Percentage)\", fontsize=14)\n",
    "    plt.xticks(rotation=45, ha='right')  # Rotate x labels for better readability\n",
    "    plt.yticks(rotation=0)\n",
    "    plt.tight_layout()  # Adjust layout to prevent clipping\n",
    "    plt.show()\n",
    "\n",
    "    # Print Classification Report (Precision, Recall, F1-score)\n",
    "    print(\"\\n✅ Classification Report:\")\n",
    "    print(classification_report(y_true, y_pred, target_names=class_names))"
   ]
  },
  {
   "cell_type": "code",
   "execution_count": null,
   "metadata": {},
   "outputs": [],
   "source": [
    "# Prepare DataLoaders\n",
    "test_loader = prepare_dataloader(\n",
    "    X_test,\n",
    "    y_test,\n",
    "    batch_size=32,\n",
    ")"
   ]
  },
  {
   "cell_type": "code",
   "execution_count": null,
   "metadata": {},
   "outputs": [],
   "source": [
    "# Evaluate the model\n",
    "evaluate_model(model, test_loader, label_encoder, device)"
   ]
  }
 ],
 "metadata": {
  "kernelspec": {
   "display_name": "Python 3",
   "language": "python",
   "name": "python3"
  },
  "language_info": {
   "codemirror_mode": {
    "name": "ipython",
    "version": 3
   },
   "file_extension": ".py",
   "mimetype": "text/x-python",
   "name": "python",
   "nbconvert_exporter": "python",
   "pygments_lexer": "ipython3",
   "version": "3.12.10"
  }
 },
 "nbformat": 4,
 "nbformat_minor": 2
}
